{
  "nbformat": 4,
  "nbformat_minor": 0,
  "metadata": {
    "colab": {
      "provenance": [],
      "authorship_tag": "ABX9TyMRAg7hCBo4cfyBji+327Uq",
      "include_colab_link": true
    },
    "kernelspec": {
      "name": "python3",
      "display_name": "Python 3"
    },
    "language_info": {
      "name": "python"
    }
  },
  "cells": [
    {
      "cell_type": "markdown",
      "metadata": {
        "id": "view-in-github",
        "colab_type": "text"
      },
      "source": [
        "<a href=\"https://colab.research.google.com/github/dtabuena/CrispyMice/blob/main/_Run_All_Nell2_CA3.ipynb\" target=\"_parent\"><img src=\"https://colab.research.google.com/assets/colab-badge.svg\" alt=\"Open In Colab\"/></a>"
      ]
    },
    {
      "cell_type": "code",
      "execution_count": null,
      "metadata": {
        "id": "N5Bsqf_jeQjZ"
      },
      "outputs": [],
      "source": [
        "'Get Standard Modules'\n",
        "\n",
        "import pandas as pd\n",
        "import numpy as np\n",
        "import matplotlib\n",
        "import matplotlib.pyplot as plt\n",
        "import scipy\n",
        "from scipy import stats\n",
        "import os\n",
        "from scipy.signal import butter,filtfilt\n",
        "from tqdm import tqdm\n",
        "import warnings\n",
        "from IPython.display import clear_output\n",
        "from datetime import datetime\n",
        "import sys\n",
        "import warnings\n",
        "import shutil\n",
        "from google.colab import files\n",
        "warnings.filterwarnings('ignore')\n",
        "np.set_printoptions(threshold=sys.maxsize)\n",
        "clear_output(wait=False)\n",
        "\n",
        "\n",
        "\n",
        "!pip install openpyxl\n",
        "!pip install XlsxWriter\n",
        "\n",
        "\n",
        "'''Get Repositories'''\n",
        "try: shutil.rmtree('/content/EphysLib')\n",
        "except: None\n",
        "\n",
        "\"run dtabuena's ephys notebooks\"\n",
        "!git clone https://github.com/dtabuena/EphysLib\n",
        "to_import = [\n",
        "            'ABF_Quality_Control.ipynb',\n",
        "            'Basic_Ephys.ipynb',\n",
        "            'Simple_ABF_tools.ipynb',\n",
        "            'fun_math.ipynb',\n",
        "            'importing_abfs_from_dropbox.ipynb',\n",
        "            'QC_recoding_dataframe.ipynb',\n",
        "            'Analyzers/input_resistance_analyzer.ipynb',\n",
        "            'Analyzers/gain_analyzer.ipynb',\n",
        "            'Analyzers/latencey_analyzer.ipynb',\n",
        "            'Analyzers/IV_analyzer.ipynb',\n",
        "            'Analyzers/Vm_analyzer.ipynb',\n",
        "            'Analyzers/membrane_analyzer.ipynb',\n",
        "            'Analyzers/rheobase_analyzer.ipynb',\n",
        "            ]\n",
        "for i in to_import:\n",
        "    f = '/content/EphysLib/' + i\n",
        "    %run $f\n",
        "\n",
        "\n",
        "try: shutil.rmtree('/content/CrispyMice')\n",
        "except: None\n",
        "!git clone https://github.com/dtabuena/CrispyMice\n",
        "to_import = ['CrispyPipelineFuncs.ipynb']\n",
        "for i in to_import:\n",
        "    f = '/content/CrispyMice/' + i\n",
        "    %run $f\n"
      ]
    },
    {
      "cell_type": "code",
      "source": [
        "##### Setup Protocol List\n",
        "VC_prot = ['VC - MemTest-10ms-160ms',\n",
        "           'VC - Multi IV - 150ms',]\n",
        "IC_prot = ['IC - Gain - D20pA',\n",
        "           'IC - Gain - D50pA',\n",
        "           'IC - Rheobase',\n",
        "           'IC - R input',\n",
        "           'IC - Latentcy 800pA-1s'\n",
        "           'VC - 3min GapFree'\n",
        "           'I0 - 3min GapFree']"
      ],
      "metadata": {
        "id": "FXsbn1kjej1a"
      },
      "execution_count": null,
      "outputs": []
    },
    {
      "cell_type": "code",
      "source": [
        "dataset = {'data_name': 'NELL2',\n",
        "           'data_source': \"https://www.dropbox.com/sh/kdyo8a4gy4krpp8/AAD-ra8gZJpdsEKq-jk-Yk_da?dl=0\", # CA3 Only\n",
        "           'file_naming_scheme': ['Rec_date','Virus','GenoType','Sex','Age','Slice_Num','Cell_num','Cell_Type'],\n",
        "           }\n",
        "\n",
        "NELL2_results = crispy_mouse_wrap(dataset,VC_prot,IC_prot,strat_cols=['Rec_date', 'Cell_Type'])"
      ],
      "metadata": {
        "id": "spB-Y6pSfDj7"
      },
      "execution_count": null,
      "outputs": []
    },
    {
      "cell_type": "code",
      "source": [
        "NELL2_results.keys()\n",
        "strat_df_dict = NELL2_results['strat_df_dict']\n",
        "\n",
        "\n",
        "# display( strat_df_dict[list(strat_df_dict.keys())[0]] )\n",
        "\n",
        "\n",
        "labels = ['Rec_date', 'Virus', 'GenoType', 'Sex', 'Age', 'Slice_Num', 'Cell_num', 'Cell_Type']\n",
        "\n",
        "possible_cols = list(strat_df_dict[list(strat_df_dict.keys())[0]].columns)\n",
        "# print(possible_cols)\n",
        "\n",
        "alt_strat_groups = ['Cm_pc_10.0',\n",
        "                    'Ra_160.0',\n",
        "                    'Rm_160.0',\n",
        "                    'Cmq_160.0',\n",
        "                    'Gain_(Hz/pA)',\n",
        "                    'Rheobase',\n",
        "                    'AP_thresh_US',\n",
        "                    'fast_after_hyperpol',\n",
        "                    'Spike_latency_(ms)',\n",
        "                    'Input_Resistance_MO',\n",
        "                    'Rmp_mV',\n",
        "                    [c for c in possible_cols if 'Stim_Levels_(pA)' in c],\n",
        "                    [c for c in possible_cols if 'Spike_Counts' in c],\n",
        "                    [c for c in possible_cols if 'IV_Early_(V_stim)' in c],\n",
        "                    [c for c in possible_cols if 'IV_Steady_State_(I_mean)' in c],\n",
        "                    [c for c in possible_cols if 'IV_Early_(I_peak)' in c],\n",
        "                    ]\n",
        "\n",
        "\n",
        "def add_col( new_df,g,k,v):\n",
        "        new_col_name = g+'_'+k            \n",
        "        clean_ser = v[g].reset_index().drop(labels='index',axis=1,inplace=False)\n",
        "        len_diff =  len(clean_ser)-len(new_df)\n",
        "        if len_diff>0:\n",
        "            blank_df = pd.DataFrame( index=range(len_diff),columns=new_df.columns)\n",
        "            new_df = new_df.append(blank_df,ignore_index=True)\n",
        "        new_df[new_col_name]=clean_ser\n",
        "        return new_df\n",
        "\n",
        "alt_strat_dict = {}\n",
        "for group in alt_strat_groups:\n",
        "    new_df = pd.DataFrame()\n",
        "    for k,v in strat_df_dict.items():\n",
        "        if isinstance(group, list):\n",
        "            print(group,'LIST')\n",
        "            ''' iter the list'''\n",
        "            group_name = group[0]\n",
        "            for sub_group in group:\n",
        "                new_df = add_col( new_df,sub_group,k,v)\n",
        "        else:\n",
        "            group_name = group\n",
        "            new_df = add_col( new_df,group,k,v)\n",
        "    alt_strat_dict[group_name] = new_df\n",
        "            \n",
        "\n",
        "\n",
        "\n",
        "\n",
        "\n",
        "# print(alt_strat_dict.keys())\n",
        "# display( alt_strat_dict['Cm_pc_10.0'] )\n",
        "# alt_strat_dict['Cm_pc_10.0'].to_csv('test.csv')\n",
        "alt_strat_dict"
      ],
      "metadata": {
        "id": "dra2unCLWn5M"
      },
      "execution_count": null,
      "outputs": []
    },
    {
      "cell_type": "code",
      "source": [
        "def write_strat_dfs(strat_dfs, xl_file_name='stratified_data.xlsx'):\n",
        "    if '.xlsx' not in xl_file_name: xl_file_name = xl_file_name+'.xlsx'\n",
        "    options = {}\n",
        "    options['strings_to_formulas'] = False\n",
        "    options['strings_to_urls'] = False\n",
        "    writer = pd.ExcelWriter(xl_file_name, options=options)\n",
        "    for k in strat_dfs.keys():\n",
        "        cur_df = strat_dfs[k]\n",
        "\n",
        "        k=k.replace('/','_per_')\n",
        "        k=k[:31]\n",
        "        print(str(k))\n",
        "        cur_df.to_excel(writer, sheet_name=str(k))\n",
        "    writer.save()\n",
        "    writer.close()\n",
        "    files.download(xl_file_name)\n",
        "    return None\n",
        "\n",
        "write_strat_dfs(alt_strat_dict, dataset['data_name']+'_results_stratified_alternate')"
      ],
      "metadata": {
        "id": "S8wHcyZnKZfk"
      },
      "execution_count": null,
      "outputs": []
    },
    {
      "cell_type": "code",
      "source": [],
      "metadata": {
        "id": "4sA4bwONKL03"
      },
      "execution_count": null,
      "outputs": []
    }
  ]
}