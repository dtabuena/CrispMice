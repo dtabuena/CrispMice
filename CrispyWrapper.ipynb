{
  "nbformat": 4,
  "nbformat_minor": 0,
  "metadata": {
    "colab": {
      "provenance": [],
      "authorship_tag": "ABX9TyPhg/51NBHefYGNe92alxBl",
      "include_colab_link": true
    },
    "kernelspec": {
      "name": "python3",
      "display_name": "Python 3"
    },
    "language_info": {
      "name": "python"
    }
  },
  "cells": [
    {
      "cell_type": "markdown",
      "metadata": {
        "id": "view-in-github",
        "colab_type": "text"
      },
      "source": [
        "<a href=\"https://colab.research.google.com/github/dtabuena/CrispyMice/blob/main/CrispyWrapper.ipynb\" target=\"_parent\"><img src=\"https://colab.research.google.com/assets/colab-badge.svg\" alt=\"Open In Colab\"/></a>"
      ]
    },
    {
      "cell_type": "code",
      "execution_count": null,
      "metadata": {
        "id": "83Zlxc7rLR2A"
      },
      "outputs": [],
      "source": [
        "def crispy_mouse_wrap(dataset,VC_prot,IC_prot):\n",
        "\n",
        "    '''Unpack'''\n",
        "    data_name = dataset['data_name']\n",
        "    data_source = dataset['data_source']\n",
        "    file_naming_scheme = dataset['file_naming_scheme']\n",
        "\n",
        "\n",
        "    '''Set Internal Analysis Params'''\n",
        "    spike_args =  {'spike_thresh':20, 'high_dv_thresh': 25,'low_dv_thresh': -5,'window_ms': 2}\n",
        "\n",
        "    func_dict = {}\n",
        "    arg_dict = {}\n",
        "\n",
        "    func_dict['VC - 3min GapFree']= rmp_analyzer\n",
        "    arg_dict['VC - 3min GapFree'] = [False]\n",
        "\n",
        "    func_dict['IC - Rheobase']= rheobase_analyzer\n",
        "    arg_dict['IC - Rheobase'] = [spike_args, False, False, False]  # [spike_args, to_plot, verbose, force_singlespike]\n",
        "\n",
        "    func_dict['IC - Gain - D20pA']= gain_analyzer\n",
        "    arg_dict['IC - Gain - D20pA']= [spike_args, 0.8, 0]  # [spike_args, to_plot, verbose, force_singlespike]\n",
        "    func_dict['IC - Gain - D50pA']= func_dict['IC - Gain - D20pA'] \n",
        "    arg_dict['IC - Gain - D50pA']= arg_dict['IC - Gain - D20pA']\n",
        "\n",
        "    func_dict['VC - MemTest-10ms-160ms']= membrane_analyzer\n",
        "    arg_dict['VC - MemTest-10ms-160ms']= [False, False, ['Ra', 'Rm', 'Cm', 'tau',\t'Cmq',\t'Cmf',\t'Cmqf', 'Cm_pc']]  # [to_plot, verbose]\n",
        "\n",
        "    func_dict['IC - Latentcy 800pA-1s']= latencey_analyzer \n",
        "    arg_dict['IC - Latentcy 800pA-1s']= [spike_args, False]  # [spike_args, to_plot]\n",
        "\n",
        "    func_dict['IC - Latentcy 800pA-1s']= latencey_analyzer \n",
        "    arg_dict['IC - Latentcy 800pA-1s']= [spike_args, False]  # [spike_args, to_plot]\n",
        "\n",
        "    func_dict['IC - R input']= input_resistance_analyzer \n",
        "    arg_dict['IC - R input']= [[-30, 10] ,False]  # [dVm_limits, to_plot]\n",
        "\n",
        "    func_dict['VC - Multi IV - 150ms'] = IV_analyzer\n",
        "    arg_dict['VC - Multi IV - 150ms']= [{'IV_Early':(16.5, 30),'IV_Steady_State':(100,120)} ,False]  # [measure_windows, to_plot]\n",
        "\n",
        "\n",
        "\n",
        "    abf_recordings_df,protocol_set = catalogue_recs(file_loc,file_naming_scheme)\n",
        "\n",
        "    cell_prot_lut(abf_recordings_df,protocol_set,csv_name=data_name+'_LUT')\n",
        "\n",
        "\n",
        "    file_loc = get_drobox_folder(data_source, 'my_ephys_data.zip')\n",
        "    clear_output(wait=False)    \n",
        "\n",
        "    abf_recordings_df, problem_recs = analysis_iterator(abf_recordings_df,func_dict,arg_dict)\n",
        "    print(problem_recs) \n",
        "\n",
        "    cell_df = cell_sorting(abf_recordings_df)\n",
        "\n",
        "    '''Consolidate to Cells'''\n",
        "    list_types = ['Recording_name','protocol','abf_timestamp', 'channelList']\n",
        "    any_types = ['Rec_date',\t'Virus',\t'GenoType',\t'Sex',\t'Age',\t'Slice_Num',  'Cell_num', 'Cell_Type']\n",
        "    cell_df_con = cell_consolidation(cell_df,list_types,any_types)\n",
        "    cols_to_simplify = ['IV_Early', 'IV_Steady_State']\n",
        "    cell_df_nd = simplify_dicts(cell_df_con,cols_to_simplify)     \n",
        "\n",
        "    '''Make Excell Friendly'''\n",
        "    keys_and_data_cols={'Stim_Levels_(pA)': ['Stim_Levels_(pA)', 'Spike_Counts' ],\n",
        "                    'IV_Early_(V_stim)': ['IV_Early_(V_stim)', 'IV_Early_(I_peak)', 'IV_Steady_State_(I_mean)']}\n",
        "    cell_df_csv = csv_frinedly(cell_df_nd,keys_and_data_cols)\n",
        "    \n",
        "    ''' Convert to Current Density'''\n",
        "    size_col = 'Cmq_160.0'\n",
        "    current_col_list = ['IV_Early_(I_peak)_', 'IV_Steady_State_(I_mean)_']\n",
        "    cell_df_csv = current_density_correction(cell_df_csv, size_col, current_col_list)\n",
        "\n",
        "\n",
        "    '''Abridge DataFrame'''\n",
        "    abrg_exclusions = ['Recording_name', \n",
        "                    'protocol', 'abf_timestamp', 'channelList',  'Ra_10.0', 'Rm_10.0', 'tau_10.0', 'Cmq_10.0', 'Cmf_10.0',\n",
        "                    'Cmqf_10.0',  'Cmf_160.0', 'Cmqf_160.0', 'Cm_pc_160.0',\n",
        "                    'Gain_R2', 'Stim_Levels_(pA)', 'Spike_Counts', 'Firing_Duration_%', 'Gain_Vh',  'Vhold_spike',\n",
        "                     'Rin_Rsqr',  'Ramp_AP_thresh', 'Ramp_Vh', 'Ramp_Rheobase', \n",
        "                    'ap_thresh_us', 'v_half',\n",
        "                    'IV_Early_(range)', 'IV_Early_(I_peak)', 'IV_Early_(I_mean)', 'IV_Early_(V_stim)', 'IV_Steady_State_(range)',\n",
        "                    'IV_Steady_State_(I_peak)', 'IV_Steady_State_(I_mean)', 'IV_Steady_State_(V_stim)', ]\n",
        "\n",
        "    abrg_keep = [c for c in cell_df_csv.columns if c not in abrg_exclusions]\n",
        "    cell_df_csv_abrg = cell_df_csv[abrg_keep]\n",
        "\n",
        "    '''Stratify Cells By Type'''\n",
        "    strat_col = 'Cell_Type'\n",
        "    xl_file_name= data_name+'.xlsx'\n",
        "    new_dfs = stratify_cells(cell_df_csv_abrg,strat_col,xl_file_name)\n",
        "\n",
        "    return new_dfs, cell_df_csv_abrg, cell_df_csv, cell_df_nd, cell_df, abf_recordings_df\n",
        "\n"
      ]
    },
    {
      "cell_type": "code",
      "source": [
        "dataset = {'data_name': 'RNF182',\n",
        "           'data_source': \"https://www.dropbox.com/sh/n9t8p257wnzlijk/AAC9Z36JodisyZjnM3mkJC3Xa?dl=0\",\n",
        "           'file_naming_scheme': ['Rec_date','Virus','GenoType','Sex','Age','Slice_Num','Cell_num','Cell_Type'],\n",
        "           }\n",
        "\n",
        "VC_prot = ['VC - MemTest-10ms-160ms',\n",
        "           'VC - Multi IV - 150ms',]\n",
        "IC_prot = ['IC - Gain - D20pA',\n",
        "           'IC - Gain - D50pA',\n",
        "           'IC - Rheobase',\n",
        "           'IC - R input',\n",
        "           'IC - Latentcy 800pA-1s'\n",
        "           'VC - 3min GapFree']\n",
        "\n",
        "crispy_mouse_wrap(dataset,VC_prot,IC_prot)"
      ],
      "metadata": {
        "id": "ZJDOr7RDLdM5"
      },
      "execution_count": null,
      "outputs": []
    }
  ]
}