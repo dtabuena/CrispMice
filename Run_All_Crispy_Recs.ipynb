{
  "nbformat": 4,
  "nbformat_minor": 0,
  "metadata": {
    "colab": {
      "provenance": [],
      "authorship_tag": "ABX9TyO2YXJGtdUl9dANTIa5+WLV",
      "include_colab_link": true
    },
    "kernelspec": {
      "name": "python3",
      "display_name": "Python 3"
    },
    "language_info": {
      "name": "python"
    }
  },
  "cells": [
    {
      "cell_type": "markdown",
      "metadata": {
        "id": "view-in-github",
        "colab_type": "text"
      },
      "source": [
        "<a href=\"https://colab.research.google.com/github/dtabuena/CrispyMice/blob/main/Run_All_Crispy_Recs.ipynb\" target=\"_parent\"><img src=\"https://colab.research.google.com/assets/colab-badge.svg\" alt=\"Open In Colab\"/></a>"
      ]
    },
    {
      "cell_type": "code",
      "execution_count": 8,
      "metadata": {
        "id": "N5Bsqf_jeQjZ",
        "outputId": "d25f64cf-9e18-46b3-d912-12161661326a",
        "colab": {
          "base_uri": "https://localhost:8080/"
        }
      },
      "outputs": [
        {
          "output_type": "stream",
          "name": "stdout",
          "text": [
            "Looking in indexes: https://pypi.org/simple, https://us-python.pkg.dev/colab-wheels/public/simple/\n",
            "Requirement already satisfied: openpyxl in /usr/local/lib/python3.8/dist-packages (3.0.10)\n",
            "Requirement already satisfied: et-xmlfile in /usr/local/lib/python3.8/dist-packages (from openpyxl) (1.1.0)\n",
            "Looking in indexes: https://pypi.org/simple, https://us-python.pkg.dev/colab-wheels/public/simple/\n",
            "Requirement already satisfied: XlsxWriter in /usr/local/lib/python3.8/dist-packages (3.0.7)\n",
            "Cloning into 'EphysLib'...\n",
            "remote: Enumerating objects: 603, done.\u001b[K\n",
            "remote: Counting objects: 100% (296/296), done.\u001b[K\n",
            "remote: Compressing objects: 100% (171/171), done.\u001b[K\n",
            "remote: Total 603 (delta 207), reused 170 (delta 125), pack-reused 307\u001b[K\n",
            "Receiving objects: 100% (603/603), 14.26 MiB | 12.97 MiB/s, done.\n",
            "Resolving deltas: 100% (381/381), done.\n",
            "Looking in indexes: https://pypi.org/simple, https://us-python.pkg.dev/colab-wheels/public/simple/\n",
            "Requirement already satisfied: pyabf in /usr/local/lib/python3.8/dist-packages (2.3.7)\n",
            "Requirement already satisfied: pytest>=3.0.7 in /usr/local/lib/python3.8/dist-packages (from pyabf) (3.6.4)\n",
            "Requirement already satisfied: numpy>=1.13.3 in /usr/local/lib/python3.8/dist-packages (from pyabf) (1.21.6)\n",
            "Requirement already satisfied: matplotlib>=2.1.0 in /usr/local/lib/python3.8/dist-packages (from pyabf) (3.2.2)\n",
            "Requirement already satisfied: kiwisolver>=1.0.1 in /usr/local/lib/python3.8/dist-packages (from matplotlib>=2.1.0->pyabf) (1.4.4)\n",
            "Requirement already satisfied: pyparsing!=2.0.4,!=2.1.2,!=2.1.6,>=2.0.1 in /usr/local/lib/python3.8/dist-packages (from matplotlib>=2.1.0->pyabf) (3.0.9)\n",
            "Requirement already satisfied: cycler>=0.10 in /usr/local/lib/python3.8/dist-packages (from matplotlib>=2.1.0->pyabf) (0.11.0)\n",
            "Requirement already satisfied: python-dateutil>=2.1 in /usr/local/lib/python3.8/dist-packages (from matplotlib>=2.1.0->pyabf) (2.8.2)\n",
            "Requirement already satisfied: setuptools in /usr/local/lib/python3.8/dist-packages (from pytest>=3.0.7->pyabf) (57.4.0)\n",
            "Requirement already satisfied: atomicwrites>=1.0 in /usr/local/lib/python3.8/dist-packages (from pytest>=3.0.7->pyabf) (1.4.1)\n",
            "Requirement already satisfied: six>=1.10.0 in /usr/local/lib/python3.8/dist-packages (from pytest>=3.0.7->pyabf) (1.15.0)\n",
            "Requirement already satisfied: more-itertools>=4.0.0 in /usr/local/lib/python3.8/dist-packages (from pytest>=3.0.7->pyabf) (9.0.0)\n",
            "Requirement already satisfied: py>=1.5.0 in /usr/local/lib/python3.8/dist-packages (from pytest>=3.0.7->pyabf) (1.11.0)\n",
            "Requirement already satisfied: attrs>=17.4.0 in /usr/local/lib/python3.8/dist-packages (from pytest>=3.0.7->pyabf) (22.2.0)\n",
            "Requirement already satisfied: pluggy<0.8,>=0.5 in /usr/local/lib/python3.8/dist-packages (from pytest>=3.0.7->pyabf) (0.7.1)\n",
            "Cloning into 'CrispyMice'...\n",
            "remote: Enumerating objects: 263, done.\u001b[K\n",
            "remote: Counting objects: 100% (156/156), done.\u001b[K\n",
            "remote: Compressing objects: 100% (131/131), done.\u001b[K\n",
            "remote: Total 263 (delta 108), reused 25 (delta 25), pack-reused 107\u001b[K\n",
            "Receiving objects: 100% (263/263), 41.89 MiB | 8.45 MiB/s, done.\n",
            "Resolving deltas: 100% (137/137), done.\n"
          ]
        }
      ],
      "source": [
        "'Get Standard Modules'\n",
        "\n",
        "import pandas as pd\n",
        "import numpy as np\n",
        "import matplotlib\n",
        "import matplotlib.pyplot as plt\n",
        "import scipy\n",
        "from scipy import stats\n",
        "import os\n",
        "from scipy.signal import butter,filtfilt\n",
        "from tqdm import tqdm\n",
        "import warnings\n",
        "from IPython.display import clear_output\n",
        "from datetime import datetime\n",
        "import sys\n",
        "import warnings\n",
        "import shutil\n",
        "from google.colab import files\n",
        "warnings.filterwarnings('ignore')\n",
        "np.set_printoptions(threshold=sys.maxsize)\n",
        "clear_output(wait=False)\n",
        "\n",
        "\n",
        "\n",
        "!pip install openpyxl\n",
        "!pip install XlsxWriter\n",
        "\n",
        "\n",
        "'''Get Repositories'''\n",
        "try: shutil.rmtree('/content/EphysLib')\n",
        "except: None\n",
        "\n",
        "\"run dtabuena's ephys notebooks\"\n",
        "!git clone https://github.com/dtabuena/EphysLib\n",
        "to_import = [\n",
        "            'ABF_Quality_Control.ipynb',\n",
        "            'Basic_Ephys.ipynb',\n",
        "            'Simple_ABF_tools.ipynb',\n",
        "            'fun_math.ipynb',\n",
        "            'importing_abfs_from_dropbox.ipynb',\n",
        "            'QC_recoding_dataframe.ipynb',\n",
        "            'Analyzers/input_resistance_analyzer.ipynb',\n",
        "            'Analyzers/gain_analyzer.ipynb',\n",
        "            'Analyzers/latencey_analyzer.ipynb',\n",
        "            'Analyzers/IV_analyzer.ipynb',\n",
        "            'Analyzers/Vm_analyzer.ipynb',\n",
        "            'Analyzers/membrane_analyzer.ipynb',\n",
        "            'Analyzers/rheobase_analyzer.ipynb',\n",
        "            ]\n",
        "for i in to_import:\n",
        "    f = '/content/EphysLib/' + i\n",
        "    %run $f\n",
        "\n",
        "\n",
        "try: shutil.rmtree('/content/CrispyMice')\n",
        "except: None\n",
        "!git clone https://github.com/dtabuena/CrispyMice\n",
        "to_import = ['CrispyPipelineFuncs.ipynb']\n",
        "for i in to_import:\n",
        "    f = '/content/CrispyMice/' + i\n",
        "    %run $f\n"
      ]
    },
    {
      "cell_type": "code",
      "source": [
        "##### Setup Protocol List\n",
        "VC_prot = ['VC - MemTest-10ms-160ms',\n",
        "           'VC - Multi IV - 150ms',]\n",
        "IC_prot = ['IC - Gain - D20pA',\n",
        "           'IC - Gain - D50pA',\n",
        "           'IC - Rheobase',\n",
        "           'IC - R input',\n",
        "           'IC - Latentcy 800pA-1s'\n",
        "           'VC - 3min GapFree'\n",
        "           'I0 - 3min GapFree']"
      ],
      "metadata": {
        "id": "FXsbn1kjej1a"
      },
      "execution_count": 9,
      "outputs": []
    },
    {
      "cell_type": "code",
      "source": [
        "# dataset = {'data_name': 'RNF182',\n",
        "#            'data_source': \"https://www.dropbox.com/sh/n9t8p257wnzlijk/AAC9Z36JodisyZjnM3mkJC3Xa?dl=0\",\n",
        "#            'file_naming_scheme': ['Rec_date','Virus','GenoType','Sex','Age','Slice_Num','Cell_num','Cell_Type'],\n",
        "#            }\n",
        "\n",
        "# RNF182_results = crispy_mouse_wrap(dataset,VC_prot,IC_prot,strat_cols=['Rec_date', 'Cell_Type'])"
      ],
      "metadata": {
        "id": "7tcKwC6keh7r"
      },
      "execution_count": 10,
      "outputs": []
    },
    {
      "cell_type": "code",
      "source": [
        "# dataset = {'data_name': 'MGDA2',\n",
        "#            'data_source': \"https://www.dropbox.com/sh/bj5ke9c1pqwpsct/AACqznMXzJj7epVBVDaSifnma?dl=0\",\n",
        "#            'file_naming_scheme': ['Rec_date','Virus','GenoType','Sex','Age','Slice_Num','Cell_num','Cell_Type'],\n",
        "#            }\n",
        "\n",
        "# MGDA2_results = crispy_mouse_wrap(dataset,VC_prot,IC_prot,strat_cols=['Rec_date', 'Cell_Type'])"
      ],
      "metadata": {
        "id": "iH-B592_fCoT"
      },
      "execution_count": 11,
      "outputs": []
    },
    {
      "cell_type": "code",
      "source": [
        "# dataset = {'data_name': 'NELL2_DG',\n",
        "#            'data_source': \"https://www.dropbox.com/sh/46zwrax2s9kh8ms/AAACswSGHMFBpYp8t_P4JrHHa?dl=0\",\n",
        "#            'file_naming_scheme': ['Rec_date','Virus','GenoType','Sex','Age','Slice_Num','Cell_num','Cell_Type'],\n",
        "#            }\n",
        "# # \n",
        "# NELL2_results = crispy_mouse_wrap(dataset,VC_prot,IC_prot,strat_cols=['Rec_date', 'Cell_Type'])"
      ],
      "metadata": {
        "id": "rEw99GsZ0AKn"
      },
      "execution_count": 12,
      "outputs": []
    },
    {
      "cell_type": "code",
      "source": [
        "dataset = {'data_name': 'NELL2_CA3',\n",
        "           'data_source': \"https://www.dropbox.com/sh/kdyo8a4gy4krpp8/AAD-ra8gZJpdsEKq-jk-Yk_da?dl=0\",\n",
        "           'file_naming_scheme': ['Rec_date','Virus','GenoType','Sex','Age','Slice_Num','Cell_num','Cell_Type'],\n",
        "           }\n",
        "\n",
        "NELL2_results = crispy_mouse_wrap(dataset,VC_prot,IC_prot,strat_cols=['Rec_date', 'Cell_Type'])"
      ],
      "metadata": {
        "id": "spB-Y6pSfDj7"
      },
      "execution_count": null,
      "outputs": []
    },
    {
      "cell_type": "code",
      "source": [
        "\n",
        "def restratify_results(results_dict,labels,alt_strat_groups):\n",
        "    def add_col( new_df,g,k,v):\n",
        "        new_col_name = g+'_'+k            \n",
        "        clean_ser = v[g].reset_index().drop(labels='index',axis=1,inplace=False)\n",
        "        len_diff =  len(clean_ser)-len(new_df)\n",
        "        if len_diff>0:\n",
        "            blank_df = pd.DataFrame( index=range(len_diff),columns=new_df.columns)\n",
        "            new_df = new_df.append(blank_df,ignore_index=True)\n",
        "        new_df[new_col_name]=clean_ser\n",
        "        return new_df\n",
        "\n",
        "\n",
        "\n",
        "\n",
        "    alt_strat_dict = {}\n",
        "    for group in alt_strat_groups:\n",
        "        new_df = pd.DataFrame()\n",
        "        for k,v in strat_df_dict.items():\n",
        "            if isinstance(group, list):\n",
        "                # print(group,'LIST')\n",
        "                ''' iter the list'''\n",
        "                group_name = group[0]\n",
        "                for sub_group in group:\n",
        "                    new_df = add_col( new_df,sub_group,k,v)\n",
        "            else:\n",
        "                group_name = group\n",
        "                new_df = add_col( new_df,group,k,v)\n",
        "        alt_strat_dict[group_name] = new_df\n",
        "    return alt_strat_dict\n",
        "\n",
        "\n",
        "\n",
        "strat_df_dict = NELL2_results['strat_df_dict']\n",
        "possible_cols = list(strat_df_dict[list(strat_df_dict.keys())[0]].columns)\n",
        "labels = ['Rec_date', 'Virus', 'GenoType', 'Sex', 'Age', 'Slice_Num', 'Cell_num', 'Cell_Type']\n",
        "alt_strat_groups  = ['Cm_pc_10.0',\n",
        "                    'Ra_160.0',\n",
        "                    'Rm_160.0',\n",
        "                    'Cmq_160.0',\n",
        "                    'Gain_(Hz/pA)',\n",
        "                    'Rheobase',\n",
        "                    'AP_thresh_US',\n",
        "                    'fast_after_hyperpol',\n",
        "                    'Spike_latency_(ms)',\n",
        "                    'Input_Resistance_MO',\n",
        "                    'Rmp_mV',\n",
        "                    [c for c in possible_cols if 'Stim_Levels_(pA)' in c],\n",
        "                    [c for c in possible_cols if 'Spike_Counts' in c],\n",
        "                    [c for c in possible_cols if 'IV_Early_(V_stim)' in c],\n",
        "                    [c for c in possible_cols if 'IV_Steady_State_(I_mean)' in c],\n",
        "                    [c for c in possible_cols if 'IV_Early_(I_peak)' in c],\n",
        "                    ]\n",
        "\n",
        "\n",
        "\n",
        "\n",
        "alt_strat_dict = restratify_results(NELL2_results,labels,alt_strat_groups)"
      ],
      "metadata": {
        "id": "SOo64CoBEQr1"
      },
      "execution_count": 18,
      "outputs": []
    },
    {
      "cell_type": "code",
      "source": [
        "def write_strat_dfs(strat_dfs, xl_file_name='stratified_data.xlsx'):\n",
        "    if '.xlsx' not in xl_file_name: xl_file_name = xl_file_name+'.xlsx'\n",
        "    options = {}\n",
        "    options['strings_to_formulas'] = False\n",
        "    options['strings_to_urls'] = False\n",
        "    writer = pd.ExcelWriter(xl_file_name, options=options)\n",
        "    for k in strat_dfs.keys():\n",
        "        cur_df = strat_dfs[k]\n",
        "\n",
        "        k=k.replace('/','_per_')\n",
        "        k=k[:31]\n",
        "        print(str(k))\n",
        "        cur_df.to_excel(writer, sheet_name=str(k))\n",
        "    writer.save()\n",
        "    writer.close()\n",
        "    files.download(xl_file_name)\n",
        "    return None\n",
        "\n",
        "write_strat_dfs(alt_strat_dict, dataset['data_name']+'_results_stratified_alternate')"
      ],
      "metadata": {
        "id": "S8wHcyZnKZfk",
        "outputId": "9201903c-219a-426a-99c9-da9ac7162ad1",
        "colab": {
          "base_uri": "https://localhost:8080/",
          "height": 295
        }
      },
      "execution_count": 19,
      "outputs": [
        {
          "output_type": "stream",
          "name": "stdout",
          "text": [
            "Cm_pc_10.0\n",
            "Ra_160.0\n",
            "Rm_160.0\n",
            "Cmq_160.0\n",
            "Gain_(Hz_per_pA)\n",
            "Rheobase\n",
            "AP_thresh_US\n",
            "fast_after_hyperpol\n",
            "Spike_latency_(ms)\n",
            "Input_Resistance_MO\n",
            "Rmp_mV\n",
            "Stim_Levels_(pA)_0.0\n",
            "Spike_Counts_0.0\n",
            "IV_Early_(V_stim)_-130.0\n",
            "IV_Steady_State_(I_mean)_-130.0\n",
            "IV_Early_(I_peak)_-130.0_pApF\n"
          ]
        },
        {
          "output_type": "display_data",
          "data": {
            "text/plain": [
              "<IPython.core.display.Javascript object>"
            ],
            "application/javascript": [
              "\n",
              "    async function download(id, filename, size) {\n",
              "      if (!google.colab.kernel.accessAllowed) {\n",
              "        return;\n",
              "      }\n",
              "      const div = document.createElement('div');\n",
              "      const label = document.createElement('label');\n",
              "      label.textContent = `Downloading \"${filename}\": `;\n",
              "      div.appendChild(label);\n",
              "      const progress = document.createElement('progress');\n",
              "      progress.max = size;\n",
              "      div.appendChild(progress);\n",
              "      document.body.appendChild(div);\n",
              "\n",
              "      const buffers = [];\n",
              "      let downloaded = 0;\n",
              "\n",
              "      const channel = await google.colab.kernel.comms.open(id);\n",
              "      // Send a message to notify the kernel that we're ready.\n",
              "      channel.send({})\n",
              "\n",
              "      for await (const message of channel.messages) {\n",
              "        // Send a message to notify the kernel that we're ready.\n",
              "        channel.send({})\n",
              "        if (message.buffers) {\n",
              "          for (const buffer of message.buffers) {\n",
              "            buffers.push(buffer);\n",
              "            downloaded += buffer.byteLength;\n",
              "            progress.value = downloaded;\n",
              "          }\n",
              "        }\n",
              "      }\n",
              "      const blob = new Blob(buffers, {type: 'application/binary'});\n",
              "      const a = document.createElement('a');\n",
              "      a.href = window.URL.createObjectURL(blob);\n",
              "      a.download = filename;\n",
              "      div.appendChild(a);\n",
              "      a.click();\n",
              "      div.remove();\n",
              "    }\n",
              "  "
            ]
          },
          "metadata": {}
        },
        {
          "output_type": "display_data",
          "data": {
            "text/plain": [
              "<IPython.core.display.Javascript object>"
            ],
            "application/javascript": [
              "download(\"download_6c8d7ce9-d74a-4d9d-be13-a6a106d982f9\", \"NELL2_CA3_results_stratified_alternate.xlsx\", 51785)"
            ]
          },
          "metadata": {}
        }
      ]
    },
    {
      "cell_type": "code",
      "source": [
        "# NELL2_results.keys()\n",
        "# strat_df_dict = NELL2_results['strat_df_dict']\n",
        "\n",
        "\n",
        "# # display( strat_df_dict[list(strat_df_dict.keys())[0]] )\n",
        "\n",
        "\n",
        "# labels = ['Rec_date', 'Virus', 'GenoType', 'Sex', 'Age', 'Slice_Num', 'Cell_num', 'Cell_Type']\n",
        "\n",
        "# possible_cols = list(strat_df_dict[list(strat_df_dict.keys())[0]].columns)\n",
        "# # print(possible_cols)\n",
        "\n",
        "# alt_strat_groups = ['Cm_pc_10.0',\n",
        "#                     'Ra_160.0',\n",
        "#                     'Rm_160.0',\n",
        "#                     'Cmq_160.0',\n",
        "#                     'Gain_(Hz/pA)',\n",
        "#                     'Rheobase',\n",
        "#                     'AP_thresh_US',\n",
        "#                     'fast_after_hyperpol',\n",
        "#                     'Spike_latency_(ms)',\n",
        "#                     'Input_Resistance_MO',\n",
        "#                     'Rmp_mV',\n",
        "#                     [c for c in possible_cols if 'Stim_Levels_(pA)' in c],\n",
        "#                     [c for c in possible_cols if 'Spike_Counts' in c],\n",
        "#                     [c for c in possible_cols if 'IV_Early_(V_stim)' in c],\n",
        "#                     [c for c in possible_cols if 'IV_Steady_State_(I_mean)' in c],\n",
        "#                     [c for c in possible_cols if 'IV_Early_(I_peak)' in c],\n",
        "#                     ]\n",
        "\n",
        "\n",
        "# def add_col( new_df,g,k,v):\n",
        "#         new_col_name = g+'_'+k            \n",
        "#         clean_ser = v[g].reset_index().drop(labels='index',axis=1,inplace=False)\n",
        "#         len_diff =  len(clean_ser)-len(new_df)\n",
        "#         if len_diff>0:\n",
        "#             blank_df = pd.DataFrame( index=range(len_diff),columns=new_df.columns)\n",
        "#             new_df = new_df.append(blank_df,ignore_index=True)\n",
        "#         new_df[new_col_name]=clean_ser\n",
        "#         return new_df\n",
        "\n",
        "# alt_strat_dict = {}\n",
        "# for group in alt_strat_groups:\n",
        "#     new_df = pd.DataFrame()\n",
        "#     for k,v in strat_df_dict.items():\n",
        "#         if isinstance(group, list):\n",
        "#             # print(group,'LIST')\n",
        "#             ''' iter the list'''\n",
        "#             group_name = group[0]\n",
        "#             for sub_group in group:\n",
        "#                 new_df = add_col( new_df,sub_group,k,v)\n",
        "#         else:\n",
        "#             group_name = group\n",
        "#             new_df = add_col( new_df,group,k,v)\n",
        "#     alt_strat_dict[group_name] = new_df\n",
        "            \n",
        "\n",
        "\n",
        "\n",
        "\n",
        "\n",
        "# print(alt_strat_dict.keys())\n",
        "# display( alt_strat_dict['Cm_pc_10.0'] )\n",
        "# alt_strat_dict['Cm_pc_10.0'].to_csv('test.csv')\n",
        "# alt_strat_dict"
      ],
      "metadata": {
        "id": "dra2unCLWn5M"
      },
      "execution_count": null,
      "outputs": []
    },
    {
      "cell_type": "code",
      "source": [],
      "metadata": {
        "id": "4sA4bwONKL03"
      },
      "execution_count": null,
      "outputs": []
    }
  ]
}