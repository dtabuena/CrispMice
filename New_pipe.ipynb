{
  "nbformat": 4,
  "nbformat_minor": 0,
  "metadata": {
    "colab": {
      "provenance": [],
      "include_colab_link": true
    },
    "kernelspec": {
      "name": "python3",
      "display_name": "Python 3"
    },
    "language_info": {
      "name": "python"
    }
  },
  "cells": [
    {
      "cell_type": "markdown",
      "metadata": {
        "id": "view-in-github",
        "colab_type": "text"
      },
      "source": [
        "<a href=\"https://colab.research.google.com/github/dtabuena/CrispyMice/blob/main/New_pipe.ipynb\" target=\"_parent\"><img src=\"https://colab.research.google.com/assets/colab-badge.svg\" alt=\"Open In Colab\"/></a>"
      ]
    },
    {
      "cell_type": "code",
      "execution_count": 37,
      "metadata": {
        "colab": {
          "base_uri": "https://localhost:8080/"
        },
        "id": "JC9rPb_d8kWh",
        "outputId": "86acfb1e-b831-435b-de82-cfda0d251355"
      },
      "outputs": [
        {
          "output_type": "stream",
          "name": "stdout",
          "text": [
            "Looking in indexes: https://pypi.org/simple, https://us-python.pkg.dev/colab-wheels/public/simple/\n",
            "Requirement already satisfied: openpyxl in /usr/local/lib/python3.7/dist-packages (3.0.10)\n",
            "Requirement already satisfied: et-xmlfile in /usr/local/lib/python3.7/dist-packages (from openpyxl) (1.1.0)\n",
            "Looking in indexes: https://pypi.org/simple, https://us-python.pkg.dev/colab-wheels/public/simple/\n",
            "Collecting XlsxWriter\n",
            "  Downloading XlsxWriter-3.0.3-py3-none-any.whl (149 kB)\n",
            "\u001b[K     |████████████████████████████████| 149 kB 35.3 MB/s \n",
            "\u001b[?25hInstalling collected packages: XlsxWriter\n",
            "Successfully installed XlsxWriter-3.0.3\n"
          ]
        }
      ],
      "source": [
        "'Get Standard Modules'\n",
        "\n",
        "import pandas as pd\n",
        "import numpy as np\n",
        "import matplotlib\n",
        "import matplotlib.pyplot as plt\n",
        "import scipy\n",
        "from scipy import stats\n",
        "import os\n",
        "from scipy.signal import butter,filtfilt\n",
        "from tqdm import tqdm\n",
        "import warnings\n",
        "from IPython.display import clear_output\n",
        "from datetime import datetime\n",
        "import sys\n",
        "import warnings\n",
        "import shutil\n",
        "from google.colab import files\n",
        "warnings.filterwarnings('ignore')\n",
        "np.set_printoptions(threshold=sys.maxsize)\n",
        "clear_output(wait=False)\n",
        "\n",
        "\n",
        "\n",
        "!pip install openpyxl\n",
        "!pip install XlsxWriter"
      ]
    },
    {
      "cell_type": "code",
      "source": [
        "'''Get Repositories'''\n",
        "try: shutil.rmtree('/content/EphysLib')\n",
        "except: None\n",
        "\n",
        "\"run dtabuena's ephys notebooks\"\n",
        "!git clone https://github.com/dtabuena/EphysLib\n",
        "\n",
        "to_import = [\n",
        "          'ABF_Quality_Control.ipynb',\n",
        "          'Basic_Ephys.ipynb',\n",
        "          'Firing_Rate_Gain.ipynb',\n",
        "          'Simple_ABF_tools.ipynb',\n",
        "          'IV_analyzer.ipynb',\n",
        "          'Vm_analyzer.ipynb',\n",
        "          'membrane_analyzer.ipynb',\n",
        "          'analyze_rheobase.ipynb',\n",
        "          'fun_math.ipynb',\n",
        "          'importing_abfs_from_dropbox.ipynb',\n",
        "          'input_resistance_analyzer.ipynb',\n",
        "          'latencey_analyzer.ipynb',\n",
        "          'QC_recoding_dataframe.ipynb'\n",
        "            ]\n",
        "for i in to_import:\n",
        "    f = '/content/EphysLib/' + i\n",
        "    %run $f\n",
        "\n",
        "\n",
        "try: shutil.rmtree('/content/CrispyMice')\n",
        "except: None\n",
        "!git clone https://github.com/dtabuena/CrispyMice\n",
        "to_import = ['CrispyPipelineFuncs.ipynb']\n",
        "for i in to_import:\n",
        "    f = '/content/CrispyMice/' + i\n",
        "    %run $f"
      ],
      "metadata": {
        "colab": {
          "base_uri": "https://localhost:8080/"
        },
        "id": "rZFzWuXt8rY_",
        "outputId": "e6ed8cb9-6731-4e99-f41d-9883720a69e7"
      },
      "execution_count": 28,
      "outputs": [
        {
          "output_type": "stream",
          "name": "stdout",
          "text": [
            "Cloning into 'EphysLib'...\n",
            "remote: Enumerating objects: 247, done.\u001b[K\n",
            "remote: Counting objects:   0% (1/153)\u001b[K\rremote: Counting objects:   1% (2/153)\u001b[K\rremote: Counting objects:   2% (4/153)\u001b[K\rremote: Counting objects:   3% (5/153)\u001b[K\rremote: Counting objects:   4% (7/153)\u001b[K\rremote: Counting objects:   5% (8/153)\u001b[K\rremote: Counting objects:   6% (10/153)\u001b[K\rremote: Counting objects:   7% (11/153)\u001b[K\rremote: Counting objects:   8% (13/153)\u001b[K\rremote: Counting objects:   9% (14/153)\u001b[K\rremote: Counting objects:  10% (16/153)\u001b[K\rremote: Counting objects:  11% (17/153)\u001b[K\rremote: Counting objects:  12% (19/153)\u001b[K\rremote: Counting objects:  13% (20/153)\u001b[K\rremote: Counting objects:  14% (22/153)\u001b[K\rremote: Counting objects:  15% (23/153)\u001b[K\rremote: Counting objects:  16% (25/153)\u001b[K\rremote: Counting objects:  17% (27/153)\u001b[K\rremote: Counting objects:  18% (28/153)\u001b[K\rremote: Counting objects:  19% (30/153)\u001b[K\rremote: Counting objects:  20% (31/153)\u001b[K\rremote: Counting objects:  21% (33/153)\u001b[K\rremote: Counting objects:  22% (34/153)\u001b[K\rremote: Counting objects:  23% (36/153)\u001b[K\rremote: Counting objects:  24% (37/153)\u001b[K\rremote: Counting objects:  25% (39/153)\u001b[K\rremote: Counting objects:  26% (40/153)\u001b[K\rremote: Counting objects:  27% (42/153)\u001b[K\rremote: Counting objects:  28% (43/153)\u001b[K\rremote: Counting objects:  29% (45/153)\u001b[K\rremote: Counting objects:  30% (46/153)\u001b[K\rremote: Counting objects:  31% (48/153)\u001b[K\rremote: Counting objects:  32% (49/153)\u001b[K\rremote: Counting objects:  33% (51/153)\u001b[K\rremote: Counting objects:  34% (53/153)\u001b[K\rremote: Counting objects:  35% (54/153)\u001b[K\rremote: Counting objects:  36% (56/153)\u001b[K\rremote: Counting objects:  37% (57/153)\u001b[K\rremote: Counting objects:  38% (59/153)\u001b[K\rremote: Counting objects:  39% (60/153)\u001b[K\rremote: Counting objects:  40% (62/153)\u001b[K\rremote: Counting objects:  41% (63/153)\u001b[K\rremote: Counting objects:  42% (65/153)\u001b[K\rremote: Counting objects:  43% (66/153)\u001b[K\rremote: Counting objects:  44% (68/153)\u001b[K\rremote: Counting objects:  45% (69/153)\u001b[K\rremote: Counting objects:  46% (71/153)\u001b[K\rremote: Counting objects:  47% (72/153)\u001b[K\rremote: Counting objects:  48% (74/153)\u001b[K\rremote: Counting objects:  49% (75/153)\u001b[K\rremote: Counting objects:  50% (77/153)\u001b[K\rremote: Counting objects:  51% (79/153)\u001b[K\rremote: Counting objects:  52% (80/153)\u001b[K\rremote: Counting objects:  53% (82/153)\u001b[K\rremote: Counting objects:  54% (83/153)\u001b[K\rremote: Counting objects:  55% (85/153)\u001b[K\rremote: Counting objects:  56% (86/153)\u001b[K\rremote: Counting objects:  57% (88/153)\u001b[K\rremote: Counting objects:  58% (89/153)\u001b[K\rremote: Counting objects:  59% (91/153)\u001b[K\rremote: Counting objects:  60% (92/153)\u001b[K\rremote: Counting objects:  61% (94/153)\u001b[K\rremote: Counting objects:  62% (95/153)\u001b[K\rremote: Counting objects:  63% (97/153)\u001b[K\rremote: Counting objects:  64% (98/153)\u001b[K\rremote: Counting objects:  65% (100/153)\u001b[K\rremote: Counting objects:  66% (101/153)\u001b[K\rremote: Counting objects:  67% (103/153)\u001b[K\rremote: Counting objects:  68% (105/153)\u001b[K\rremote: Counting objects:  69% (106/153)\u001b[K\rremote: Counting objects:  70% (108/153)\u001b[K\rremote: Counting objects:  71% (109/153)\u001b[K\rremote: Counting objects:  72% (111/153)\u001b[K\rremote: Counting objects:  73% (112/153)\u001b[K\rremote: Counting objects:  74% (114/153)\u001b[K\rremote: Counting objects:  75% (115/153)\u001b[K\rremote: Counting objects:  76% (117/153)\u001b[K\rremote: Counting objects:  77% (118/153)\u001b[K\rremote: Counting objects:  78% (120/153)\u001b[K\rremote: Counting objects:  79% (121/153)\u001b[K\rremote: Counting objects:  80% (123/153)\u001b[K\rremote: Counting objects:  81% (124/153)\u001b[K\rremote: Counting objects:  82% (126/153)\u001b[K\rremote: Counting objects:  83% (127/153)\u001b[K\rremote: Counting objects:  84% (129/153)\u001b[K\rremote: Counting objects:  85% (131/153)\u001b[K\rremote: Counting objects:  86% (132/153)\u001b[K\rremote: Counting objects:  87% (134/153)\u001b[K\rremote: Counting objects:  88% (135/153)\u001b[K\rremote: Counting objects:  89% (137/153)\u001b[K\rremote: Counting objects:  90% (138/153)\u001b[K\rremote: Counting objects:  91% (140/153)\u001b[K\rremote: Counting objects:  92% (141/153)\u001b[K\rremote: Counting objects:  93% (143/153)\u001b[K\rremote: Counting objects:  94% (144/153)\u001b[K\rremote: Counting objects:  95% (146/153)\u001b[K\rremote: Counting objects:  96% (147/153)\u001b[K\rremote: Counting objects:  97% (149/153)\u001b[K\rremote: Counting objects:  98% (150/153)\u001b[K\rremote: Counting objects:  99% (152/153)\u001b[K\rremote: Counting objects: 100% (153/153)\u001b[K\rremote: Counting objects: 100% (153/153), done.\u001b[K\n",
            "remote: Compressing objects:   0% (1/124)\u001b[K\rremote: Compressing objects:   1% (2/124)\u001b[K\rremote: Compressing objects:   2% (3/124)\u001b[K\rremote: Compressing objects:   3% (4/124)\u001b[K\rremote: Compressing objects:   4% (5/124)\u001b[K\rremote: Compressing objects:   5% (7/124)\u001b[K\rremote: Compressing objects:   6% (8/124)\u001b[K\rremote: Compressing objects:   7% (9/124)\u001b[K\rremote: Compressing objects:   8% (10/124)\u001b[K\rremote: Compressing objects:   9% (12/124)\u001b[K\rremote: Compressing objects:  10% (13/124)\u001b[K\rremote: Compressing objects:  11% (14/124)\u001b[K\rremote: Compressing objects:  12% (15/124)\u001b[K\rremote: Compressing objects:  13% (17/124)\u001b[K\rremote: Compressing objects:  14% (18/124)\u001b[K\rremote: Compressing objects:  15% (19/124)\u001b[K\rremote: Compressing objects:  16% (20/124)\u001b[K\rremote: Compressing objects:  17% (22/124)\u001b[K\rremote: Compressing objects:  18% (23/124)\u001b[K\rremote: Compressing objects:  19% (24/124)\u001b[K\rremote: Compressing objects:  20% (25/124)\u001b[K\rremote: Compressing objects:  21% (27/124)\u001b[K\rremote: Compressing objects:  22% (28/124)\u001b[K\rremote: Compressing objects:  23% (29/124)\u001b[K\rremote: Compressing objects:  24% (30/124)\u001b[K\rremote: Compressing objects:  25% (31/124)\u001b[K\rremote: Compressing objects:  26% (33/124)\u001b[K\rremote: Compressing objects:  27% (34/124)\u001b[K\rremote: Compressing objects:  28% (35/124)\u001b[K\rremote: Compressing objects:  29% (36/124)\u001b[K\rremote: Compressing objects:  30% (38/124)\u001b[K\rremote: Compressing objects:  31% (39/124)\u001b[K\rremote: Compressing objects:  32% (40/124)\u001b[K\rremote: Compressing objects:  33% (41/124)\u001b[K\rremote: Compressing objects:  34% (43/124)\u001b[K\rremote: Compressing objects:  35% (44/124)\u001b[K\rremote: Compressing objects:  36% (45/124)\u001b[K\rremote: Compressing objects:  37% (46/124)\u001b[K\rremote: Compressing objects:  38% (48/124)\u001b[K\rremote: Compressing objects:  39% (49/124)\u001b[K\rremote: Compressing objects:  40% (50/124)\u001b[K\rremote: Compressing objects:  41% (51/124)\u001b[K\rremote: Compressing objects:  42% (53/124)\u001b[K\rremote: Compressing objects:  43% (54/124)\u001b[K\rremote: Compressing objects:  44% (55/124)\u001b[K\rremote: Compressing objects:  45% (56/124)\u001b[K\rremote: Compressing objects:  46% (58/124)\u001b[K\rremote: Compressing objects:  47% (59/124)\u001b[K\rremote: Compressing objects:  48% (60/124)\u001b[K\rremote: Compressing objects:  49% (61/124)\u001b[K\rremote: Compressing objects:  50% (62/124)\u001b[K\rremote: Compressing objects:  51% (64/124)\u001b[K\rremote: Compressing objects:  52% (65/124)\u001b[K\rremote: Compressing objects:  53% (66/124)\u001b[K\rremote: Compressing objects:  54% (67/124)\u001b[K\rremote: Compressing objects:  55% (69/124)\u001b[K\rremote: Compressing objects:  56% (70/124)\u001b[K\rremote: Compressing objects:  57% (71/124)\u001b[K\rremote: Compressing objects:  58% (72/124)\u001b[K\rremote: Compressing objects:  59% (74/124)\u001b[K\rremote: Compressing objects:  60% (75/124)\u001b[K\rremote: Compressing objects:  61% (76/124)\u001b[K\rremote: Compressing objects:  62% (77/124)\u001b[K\rremote: Compressing objects:  63% (79/124)\u001b[K\rremote: Compressing objects:  64% (80/124)\u001b[K\rremote: Compressing objects:  65% (81/124)\u001b[K\rremote: Compressing objects:  66% (82/124)\u001b[K\rremote: Compressing objects:  67% (84/124)\u001b[K\rremote: Compressing objects:  68% (85/124)\u001b[K\rremote: Compressing objects:  69% (86/124)\u001b[K\rremote: Compressing objects:  70% (87/124)\u001b[K\rremote: Compressing objects:  71% (89/124)\u001b[K\rremote: Compressing objects:  72% (90/124)\u001b[K\rremote: Compressing objects:  73% (91/124)\u001b[K\rremote: Compressing objects:  74% (92/124)\u001b[K\rremote: Compressing objects:  75% (93/124)\u001b[K\rremote: Compressing objects:  76% (95/124)\u001b[K\rremote: Compressing objects:  77% (96/124)\u001b[K\rremote: Compressing objects:  78% (97/124)\u001b[K\rremote: Compressing objects:  79% (98/124)\u001b[K\rremote: Compressing objects:  80% (100/124)\u001b[K\rremote: Compressing objects:  81% (101/124)\u001b[K\rremote: Compressing objects:  82% (102/124)\u001b[K\rremote: Compressing objects:  83% (103/124)\u001b[K\rremote: Compressing objects:  84% (105/124)\u001b[K\rremote: Compressing objects:  85% (106/124)\u001b[K\rremote: Compressing objects:  86% (107/124)\u001b[K\rremote: Compressing objects:  87% (108/124)\u001b[K\rremote: Compressing objects:  88% (110/124)\u001b[K\rremote: Compressing objects:  89% (111/124)\u001b[K\rremote: Compressing objects:  90% (112/124)\u001b[K\rremote: Compressing objects:  91% (113/124)\u001b[K\rremote: Compressing objects:  92% (115/124)\u001b[K\rremote: Compressing objects:  93% (116/124)\u001b[K\rremote: Compressing objects:  94% (117/124)\u001b[K\rremote: Compressing objects:  95% (118/124)\u001b[K\rremote: Compressing objects:  96% (120/124)\u001b[K\rremote: Compressing objects:  97% (121/124)\u001b[K\rremote: Compressing objects:  98% (122/124)\u001b[K\rremote: Compressing objects:  99% (123/124)\u001b[K\rremote: Compressing objects: 100% (124/124)\u001b[K\rremote: Compressing objects: 100% (124/124), done.\u001b[K\n",
            "Receiving objects:   0% (1/247)   \rReceiving objects:   1% (3/247)   \rReceiving objects:   2% (5/247)   \rReceiving objects:   3% (8/247)   \rReceiving objects:   4% (10/247)   \rReceiving objects:   5% (13/247)   \rReceiving objects:   6% (15/247)   \rReceiving objects:   7% (18/247)   \rReceiving objects:   8% (20/247)   \rReceiving objects:   9% (23/247)   \rReceiving objects:  10% (25/247)   \rReceiving objects:  11% (28/247)   \rReceiving objects:  12% (30/247)   \rReceiving objects:  13% (33/247)   \rReceiving objects:  14% (35/247)   \rReceiving objects:  15% (38/247)   \rReceiving objects:  16% (40/247)   \rReceiving objects:  17% (42/247)   \rReceiving objects:  18% (45/247)   \rReceiving objects:  19% (47/247)   \rReceiving objects:  20% (50/247)   \rReceiving objects:  21% (52/247)   \rReceiving objects:  22% (55/247)   \rReceiving objects:  23% (57/247)   \rReceiving objects:  24% (60/247)   \rReceiving objects:  25% (62/247)   \rReceiving objects:  26% (65/247)   \rReceiving objects:  27% (67/247)   \rReceiving objects:  28% (70/247)   \rReceiving objects:  29% (72/247)   \rReceiving objects:  30% (75/247)   \rReceiving objects:  31% (77/247)   \rReceiving objects:  32% (80/247)   \rReceiving objects:  33% (82/247)   \rReceiving objects:  34% (84/247)   \rReceiving objects:  35% (87/247)   \rReceiving objects:  36% (89/247)   \rReceiving objects:  37% (92/247)   \rReceiving objects:  38% (94/247)   \rReceiving objects:  39% (97/247)   \rReceiving objects:  40% (99/247)   \rReceiving objects:  41% (102/247)   \rReceiving objects:  42% (104/247)   \rReceiving objects:  43% (107/247)   \rReceiving objects:  44% (109/247)   \rReceiving objects:  45% (112/247)   \rReceiving objects:  46% (114/247)   \rReceiving objects:  47% (117/247)   \rReceiving objects:  48% (119/247)   \rReceiving objects:  49% (122/247)   \rReceiving objects:  50% (124/247)   \rReceiving objects:  51% (126/247)   \rReceiving objects:  52% (129/247)   \rReceiving objects:  53% (131/247)   \rReceiving objects:  54% (134/247)   \rReceiving objects:  55% (136/247)   \rReceiving objects:  56% (139/247)   \rReceiving objects:  57% (141/247)   \rReceiving objects:  58% (144/247)   \rReceiving objects:  59% (146/247)   \rReceiving objects:  60% (149/247)   \rReceiving objects:  61% (151/247)   \rReceiving objects:  62% (154/247)   \rReceiving objects:  63% (156/247)   \rReceiving objects:  64% (159/247)   \rReceiving objects:  65% (161/247)   \rReceiving objects:  66% (164/247)   \rReceiving objects:  67% (166/247)   \rReceiving objects:  68% (168/247)   \rReceiving objects:  69% (171/247)   \rReceiving objects:  70% (173/247)   \rReceiving objects:  71% (176/247)   \rReceiving objects:  72% (178/247)   \rReceiving objects:  73% (181/247)   \rReceiving objects:  74% (183/247)   \rReceiving objects:  75% (186/247)   \rReceiving objects:  76% (188/247)   \rReceiving objects:  77% (191/247)   \rReceiving objects:  78% (193/247)   \rReceiving objects:  79% (196/247)   \rReceiving objects:  80% (198/247)   \rReceiving objects:  81% (201/247)   \rReceiving objects:  82% (203/247)   \rremote: Total 247 (delta 102), reused 29 (delta 29), pack-reused 94\u001b[K\n",
            "Receiving objects:  83% (206/247)   \rReceiving objects:  84% (208/247)   \rReceiving objects:  85% (210/247)   \rReceiving objects:  86% (213/247)   \rReceiving objects:  87% (215/247)   \rReceiving objects:  88% (218/247)   \rReceiving objects:  89% (220/247)   \rReceiving objects:  90% (223/247)   \rReceiving objects:  91% (225/247)   \rReceiving objects:  92% (228/247)   \rReceiving objects:  93% (230/247)   \rReceiving objects:  94% (233/247)   \rReceiving objects:  95% (235/247)   \rReceiving objects:  96% (238/247)   \rReceiving objects:  97% (240/247)   \rReceiving objects:  98% (243/247)   \rReceiving objects:  99% (245/247)   \rReceiving objects: 100% (247/247)   \rReceiving objects: 100% (247/247), 204.58 KiB | 13.64 MiB/s, done.\n",
            "Resolving deltas:   0% (0/146)   \rResolving deltas:   8% (12/146)   \rResolving deltas:  58% (85/146)   \rResolving deltas:  85% (125/146)   \rResolving deltas:  91% (134/146)   \rResolving deltas:  93% (136/146)   \rResolving deltas:  95% (139/146)   \rResolving deltas:  96% (141/146)   \rResolving deltas: 100% (146/146)   \rResolving deltas: 100% (146/146), done.\n",
            "Looking in indexes: https://pypi.org/simple, https://us-python.pkg.dev/colab-wheels/public/simple/\n",
            "Requirement already satisfied: pyabf in /usr/local/lib/python3.7/dist-packages (2.3.6)\n",
            "Requirement already satisfied: matplotlib>=2.1.0 in /usr/local/lib/python3.7/dist-packages (from pyabf) (3.2.2)\n",
            "Requirement already satisfied: pytest>=3.0.7 in /usr/local/lib/python3.7/dist-packages (from pyabf) (3.6.4)\n",
            "Requirement already satisfied: numpy>=1.13.3 in /usr/local/lib/python3.7/dist-packages (from pyabf) (1.21.6)\n",
            "Requirement already satisfied: kiwisolver>=1.0.1 in /usr/local/lib/python3.7/dist-packages (from matplotlib>=2.1.0->pyabf) (1.4.4)\n",
            "Requirement already satisfied: pyparsing!=2.0.4,!=2.1.2,!=2.1.6,>=2.0.1 in /usr/local/lib/python3.7/dist-packages (from matplotlib>=2.1.0->pyabf) (3.0.9)\n",
            "Requirement already satisfied: python-dateutil>=2.1 in /usr/local/lib/python3.7/dist-packages (from matplotlib>=2.1.0->pyabf) (2.8.2)\n",
            "Requirement already satisfied: cycler>=0.10 in /usr/local/lib/python3.7/dist-packages (from matplotlib>=2.1.0->pyabf) (0.11.0)\n",
            "Requirement already satisfied: typing-extensions in /usr/local/lib/python3.7/dist-packages (from kiwisolver>=1.0.1->matplotlib>=2.1.0->pyabf) (4.1.1)\n",
            "Requirement already satisfied: setuptools in /usr/local/lib/python3.7/dist-packages (from pytest>=3.0.7->pyabf) (57.4.0)\n",
            "Requirement already satisfied: atomicwrites>=1.0 in /usr/local/lib/python3.7/dist-packages (from pytest>=3.0.7->pyabf) (1.4.1)\n",
            "Requirement already satisfied: py>=1.5.0 in /usr/local/lib/python3.7/dist-packages (from pytest>=3.0.7->pyabf) (1.11.0)\n",
            "Requirement already satisfied: pluggy<0.8,>=0.5 in /usr/local/lib/python3.7/dist-packages (from pytest>=3.0.7->pyabf) (0.7.1)\n",
            "Requirement already satisfied: more-itertools>=4.0.0 in /usr/local/lib/python3.7/dist-packages (from pytest>=3.0.7->pyabf) (8.14.0)\n",
            "Requirement already satisfied: attrs>=17.4.0 in /usr/local/lib/python3.7/dist-packages (from pytest>=3.0.7->pyabf) (22.1.0)\n",
            "Requirement already satisfied: six>=1.10.0 in /usr/local/lib/python3.7/dist-packages (from pytest>=3.0.7->pyabf) (1.15.0)\n",
            "Cloning into 'CrispyMice'...\n",
            "remote: Enumerating objects: 153, done.\u001b[K\n",
            "remote: Counting objects: 100% (46/46), done.\u001b[K\n",
            "remote: Compressing objects: 100% (21/21), done.\u001b[K\n",
            "remote: Total 153 (delta 38), reused 25 (delta 25), pack-reused 107\u001b[K\n",
            "Receiving objects: 100% (153/153), 3.49 MiB | 37.22 MiB/s, done.\n",
            "Resolving deltas: 100% (67/67), done.\n"
          ]
        }
      ]
    },
    {
      "cell_type": "code",
      "source": [
        "dataset = {'data_name': 'RNF182',\n",
        "           'data_source': \"https://www.dropbox.com/sh/n9t8p257wnzlijk/AAC9Z36JodisyZjnM3mkJC3Xa?dl=0\",\n",
        "           'file_naming_scheme': ['Rec_date','Virus','GenoType','Sex','Age','Slice_Num','Cell_num','Cell_Type'],\n",
        "           }\n",
        "\n",
        "VC_prot = ['VC - MemTest-10ms-160ms',\n",
        "           'VC - Multi IV - 150ms',]\n",
        "IC_prot = ['IC - Gain - D20pA',\n",
        "           'IC - Gain - D50pA',\n",
        "           'IC - Rheobase',\n",
        "           'IC - R input',\n",
        "           'IC - Latentcy 800pA-1s'\n",
        "           'VC - 3min GapFree']"
      ],
      "metadata": {
        "id": "-KymLloO52Jz"
      },
      "execution_count": 29,
      "outputs": []
    },
    {
      "cell_type": "code",
      "source": [
        "'''Unpack'''\n",
        "data_name = dataset['data_name']\n",
        "data_source = dataset['data_source']\n",
        "file_naming_scheme = dataset['file_naming_scheme']\n",
        "\n",
        "\n",
        "'''Set Internal Analysis Params'''\n",
        "spike_args =  {'spike_thresh':20, 'high_dv_thresh': 25,'low_dv_thresh': -5,'window_ms': 2}\n",
        "\n",
        "func_dict = {}\n",
        "arg_dict = {}\n",
        "\n",
        "func_dict['VC - 3min GapFree']= rmp_analyzer\n",
        "arg_dict['VC - 3min GapFree'] = [False]\n",
        "\n",
        "func_dict['IC - Rheobase']= rheobase_analyzer\n",
        "arg_dict['IC - Rheobase'] = [spike_args, False, False, False]  # [spike_args, to_plot, verbose, force_singlespike]\n",
        "\n",
        "func_dict['IC - Gain - D20pA']= gain_analyzer\n",
        "arg_dict['IC - Gain - D20pA']= [spike_args, 0.8, 0]  # [spike_args, to_plot, verbose, force_singlespike]\n",
        "func_dict['IC - Gain - D50pA']= func_dict['IC - Gain - D20pA'] \n",
        "arg_dict['IC - Gain - D50pA']= arg_dict['IC - Gain - D20pA']\n",
        "\n",
        "func_dict['VC - MemTest-10ms-160ms']= membrane_analyzer\n",
        "arg_dict['VC - MemTest-10ms-160ms']= [False, False, ['Ra', 'Rm', 'Cm', 'tau',\t'Cmq',\t'Cmf',\t'Cmqf', 'Cm_pc']]  # [to_plot, verbose]\n",
        "\n",
        "func_dict['IC - Latentcy 800pA-1s']= latencey_analyzer \n",
        "arg_dict['IC - Latentcy 800pA-1s']= [spike_args, False]  # [spike_args, to_plot]\n",
        "\n",
        "func_dict['IC - Latentcy 800pA-1s']= latencey_analyzer \n",
        "arg_dict['IC - Latentcy 800pA-1s']= [spike_args, False]  # [spike_args, to_plot]\n",
        "\n",
        "func_dict['IC - R input']= input_resistance_analyzer \n",
        "arg_dict['IC - R input']= [[-30, 10] ,False]  # [dVm_limits, to_plot]\n",
        "\n",
        "func_dict['VC - Multi IV - 150ms'] = IV_analyzer\n",
        "arg_dict['VC - Multi IV - 150ms']= [{'IV_Early':(16.5, 30),'IV_Steady_State':(100,120)} ,False]  # [measure_windows, to_plot]\n",
        "\n",
        "\n",
        "''' Gather and Catalog Source Data'''\n",
        "file_loc = get_drobox_folder(data_source, 'my_ephys_data')\n",
        "clear_output(wait=False)   \n",
        "abf_recordings_df, protocol_set = catalogue_recs(file_loc,file_naming_scheme)\n",
        "abf_recordings_df, _ = purge_wrong_clamp(abf_recordings_df,VC_prot,IC_prot)\n",
        "cell_prot_lut(abf_recordings_df,protocol_set,csv_name=data_name+'_LUT')\n",
        "\n",
        "\n",
        "'''Analyze Dataset'''\n",
        "abf_recordings_df, problem_recs = analysis_iterator(abf_recordings_df,func_dict,arg_dict)\n",
        "print(problem_recs) \n",
        "\n",
        "cell_df = cell_sorting(abf_recordings_df)\n",
        "\n",
        "'''Consolidate to Cells'''\n",
        "list_types = ['Recording_name','protocol','abf_timestamp', 'channelList']\n",
        "any_types = ['Rec_date',\t'Virus',\t'GenoType',\t'Sex',\t'Age',\t'Slice_Num',  'Cell_num', 'Cell_Type']\n",
        "cell_df_con = cell_consolidation(cell_df,list_types,any_types)\n",
        "cols_to_simplify = ['IV_Early', 'IV_Steady_State']\n",
        "cell_df_nd = simplify_dicts(cell_df_con,cols_to_simplify)     \n",
        "\n",
        "'''Make Excell Friendly'''\n",
        "keys_and_data_cols={'Stim_Levels_(pA)': ['Stim_Levels_(pA)', 'Spike_Counts' ],\n",
        "                'IV_Early_(V_stim)': ['IV_Early_(V_stim)', 'IV_Early_(I_peak)', 'IV_Steady_State_(I_mean)']}\n",
        "cell_df_csv = csv_frinedly(cell_df_nd,keys_and_data_cols)\n",
        "\n",
        "''' Convert to Current Density'''\n",
        "size_col = 'Cmq_160.0'\n",
        "current_col_list = ['IV_Early_(I_peak)_', 'IV_Steady_State_(I_mean)_']\n",
        "cell_df_csv = current_density_correction(cell_df_csv, size_col, current_col_list)\n",
        "\n",
        "\n",
        "'''Abridge DataFrame'''\n",
        "abrg_exclusions = ['Recording_name', \n",
        "                'protocol', 'abf_timestamp', 'channelList',  'Ra_10.0', 'Rm_10.0', 'tau_10.0', 'Cmq_10.0', 'Cmf_10.0',\n",
        "                'Cmqf_10.0',  'Cmf_160.0', 'Cmqf_160.0', 'Cm_pc_160.0',\n",
        "                'Gain_R2', 'Stim_Levels_(pA)', 'Spike_Counts', 'Firing_Duration_%', 'Gain_Vh',  'Vhold_spike',\n",
        "                    'Rin_Rsqr',  'Ramp_AP_thresh', 'Ramp_Vh', 'Ramp_Rheobase', \n",
        "                'ap_thresh_us', 'v_half',\n",
        "                'IV_Early_(range)', 'IV_Early_(I_peak)', 'IV_Early_(I_mean)', 'IV_Early_(V_stim)', 'IV_Steady_State_(range)',\n",
        "                'IV_Steady_State_(I_peak)', 'IV_Steady_State_(I_mean)', 'IV_Steady_State_(V_stim)', ]\n",
        "\n",
        "abrg_keep = [c for c in cell_df_csv.columns if c not in abrg_exclusions]\n",
        "cell_df_csv_abrg = cell_df_csv[abrg_keep]\n",
        "\n",
        "'''Stratify Cells By Type'''\n",
        "strat_col = 'Cell_Type'\n",
        "xl_file_name= data_name+'.xlsx'\n",
        "new_dfs = stratify_cells(cell_df_csv_abrg,strat_col,xl_file_name)"
      ],
      "metadata": {
        "id": "WL9v82TH5PPB",
        "outputId": "a15346e7-9c3b-4498-902f-112b39ba9656",
        "colab": {
          "base_uri": "https://localhost:8080/",
          "height": 124
        }
      },
      "execution_count": 30,
      "outputs": [
        {
          "output_type": "display_data",
          "data": {
            "text/plain": [
              "<IPython.core.display.Javascript object>"
            ],
            "application/javascript": [
              "\n",
              "    async function download(id, filename, size) {\n",
              "      if (!google.colab.kernel.accessAllowed) {\n",
              "        return;\n",
              "      }\n",
              "      const div = document.createElement('div');\n",
              "      const label = document.createElement('label');\n",
              "      label.textContent = `Downloading \"${filename}\": `;\n",
              "      div.appendChild(label);\n",
              "      const progress = document.createElement('progress');\n",
              "      progress.max = size;\n",
              "      div.appendChild(progress);\n",
              "      document.body.appendChild(div);\n",
              "\n",
              "      const buffers = [];\n",
              "      let downloaded = 0;\n",
              "\n",
              "      const channel = await google.colab.kernel.comms.open(id);\n",
              "      // Send a message to notify the kernel that we're ready.\n",
              "      channel.send({})\n",
              "\n",
              "      for await (const message of channel.messages) {\n",
              "        // Send a message to notify the kernel that we're ready.\n",
              "        channel.send({})\n",
              "        if (message.buffers) {\n",
              "          for (const buffer of message.buffers) {\n",
              "            buffers.push(buffer);\n",
              "            downloaded += buffer.byteLength;\n",
              "            progress.value = downloaded;\n",
              "          }\n",
              "        }\n",
              "      }\n",
              "      const blob = new Blob(buffers, {type: 'application/binary'});\n",
              "      const a = document.createElement('a');\n",
              "      a.href = window.URL.createObjectURL(blob);\n",
              "      a.download = filename;\n",
              "      div.appendChild(a);\n",
              "      a.click();\n",
              "      div.remove();\n",
              "    }\n",
              "  "
            ]
          },
          "metadata": {}
        },
        {
          "output_type": "display_data",
          "data": {
            "text/plain": [
              "<IPython.core.display.Javascript object>"
            ],
            "application/javascript": [
              "download(\"download_6e60adab-ed0c-42a3-bb79-3ff424aab52d\", \"RNF182_LUT.csv\", 13422)"
            ]
          },
          "metadata": {}
        },
        {
          "output_type": "stream",
          "name": "stderr",
          "text": [
            "  4%|▎         | 9/251 [00:09<07:29,  1.86s/it]"
          ]
        },
        {
          "output_type": "stream",
          "name": "stdout",
          "text": [
            "ap_stats_failed:  ABF (v2.9) with 2 channels (mV, pA), sampled at 10.0 kHz, containing 3 sweeps, having no tags, with a total length of 0.57 minutes, recorded with protocol \"IC - Rheobase\".\n"
          ]
        },
        {
          "output_type": "stream",
          "name": "stderr",
          "text": [
            " 24%|██▍       | 60/251 [00:42<01:44,  1.84it/s]"
          ]
        },
        {
          "output_type": "stream",
          "name": "stdout",
          "text": [
            "error on:  my_ephys_dat/2022_08_12_RNF182/2022x08x12_RNF182_E4KI_F_P251_s002_c006_CA3xPOS_0006.abf\n"
          ]
        },
        {
          "output_type": "stream",
          "name": "stderr",
          "text": [
            " 65%|██████▌   | 164/251 [02:04<01:49,  1.26s/it]"
          ]
        },
        {
          "output_type": "stream",
          "name": "stdout",
          "text": [
            "ap_stats_failed:  ABF (v2.9) with 2 channels (mV, pA), sampled at 10.0 kHz, containing 7 sweeps, having no tags, with a total length of 1.23 minutes, recorded with protocol \"IC - Rheobase\".\n"
          ]
        },
        {
          "output_type": "stream",
          "name": "stderr",
          "text": [
            "100%|██████████| 251/251 [03:12<00:00,  1.31it/s]\n"
          ]
        },
        {
          "output_type": "stream",
          "name": "stdout",
          "text": [
            "['my_ephys_dat/2022_08_12_RNF182/2022x08x12_RNF182_E4KI_F_P251_s002_c006_CA3xPOS_0006.abf']\n"
          ]
        },
        {
          "output_type": "display_data",
          "data": {
            "text/plain": [
              "<IPython.core.display.Javascript object>"
            ],
            "application/javascript": [
              "\n",
              "    async function download(id, filename, size) {\n",
              "      if (!google.colab.kernel.accessAllowed) {\n",
              "        return;\n",
              "      }\n",
              "      const div = document.createElement('div');\n",
              "      const label = document.createElement('label');\n",
              "      label.textContent = `Downloading \"${filename}\": `;\n",
              "      div.appendChild(label);\n",
              "      const progress = document.createElement('progress');\n",
              "      progress.max = size;\n",
              "      div.appendChild(progress);\n",
              "      document.body.appendChild(div);\n",
              "\n",
              "      const buffers = [];\n",
              "      let downloaded = 0;\n",
              "\n",
              "      const channel = await google.colab.kernel.comms.open(id);\n",
              "      // Send a message to notify the kernel that we're ready.\n",
              "      channel.send({})\n",
              "\n",
              "      for await (const message of channel.messages) {\n",
              "        // Send a message to notify the kernel that we're ready.\n",
              "        channel.send({})\n",
              "        if (message.buffers) {\n",
              "          for (const buffer of message.buffers) {\n",
              "            buffers.push(buffer);\n",
              "            downloaded += buffer.byteLength;\n",
              "            progress.value = downloaded;\n",
              "          }\n",
              "        }\n",
              "      }\n",
              "      const blob = new Blob(buffers, {type: 'application/binary'});\n",
              "      const a = document.createElement('a');\n",
              "      a.href = window.URL.createObjectURL(blob);\n",
              "      a.download = filename;\n",
              "      div.appendChild(a);\n",
              "      a.click();\n",
              "      div.remove();\n",
              "    }\n",
              "  "
            ]
          },
          "metadata": {}
        },
        {
          "output_type": "display_data",
          "data": {
            "text/plain": [
              "<IPython.core.display.Javascript object>"
            ],
            "application/javascript": [
              "download(\"download_962d442a-2e17-4ffb-a29c-96696b90dca5\", \"RNF182.xlsx\", 62864)"
            ]
          },
          "metadata": {}
        }
      ]
    },
    {
      "cell_type": "code",
      "source": [
        "cell_df_csv_abrg.columns[:6]"
      ],
      "metadata": {
        "id": "vq8yBKIs83Mc",
        "outputId": "e365cc8c-9c36-476b-a409-809fa6bf4ba5",
        "colab": {
          "base_uri": "https://localhost:8080/"
        }
      },
      "execution_count": 31,
      "outputs": [
        {
          "output_type": "execute_result",
          "data": {
            "text/plain": [
              "Index(['Rec_date', 'Virus', 'GenoType', 'Sex', 'Age', 'Slice_Num'], dtype='object')"
            ]
          },
          "metadata": {},
          "execution_count": 31
        }
      ]
    },
    {
      "cell_type": "code",
      "source": [
        "def write_strat_dfs(strat_dfs, xl_file_name='stratified_data.xlsx'):\n",
        "    if '.xlsx' not in xl_file_name: xl_file_name = xl_file_name+'.xlsx'\n",
        "    options = {}\n",
        "    options['strings_to_formulas'] = False\n",
        "    options['strings_to_urls'] = False\n",
        "    writer = pd.ExcelWriter(xl_file_name, options=options)\n",
        "    for k in strat_dfs.keys():\n",
        "        cur_df = strat_dfs[k]\n",
        "        strat_dfs[k].to_excel(writer, sheet_name=str(k))\n",
        "    writer.save()\n",
        "    writer.close()\n",
        "    files.download(xl_file_name)\n",
        "    return None\n",
        "\n",
        "def flatten_dict(my_dict,flat_dict = {} ):\n",
        "    for k in my_dict.keys():\n",
        "        if isinstance(my_dict[k], dict):\n",
        "            sub_dict, sub_keys = flatten_dict(my_dict[k],flat_dict)\n",
        "            for sk in sub_keys:\n",
        "                flat_dict[k+'_'+sk] = sub_dict[sk]\n",
        "        else:\n",
        "            flat_dict = my_dict\n",
        "    return flat_dict, list(flat_dict.keys()) "
      ],
      "metadata": {
        "id": "ZY2lYQOyrO9s"
      },
      "execution_count": 36,
      "outputs": []
    },
    {
      "cell_type": "code",
      "source": [
        "strat_col = ['Rec_date','Cell_Type']\n",
        "\n",
        "strat_df_dict = stratify_rec(cell_df_csv_abrg,strat_col)\n",
        "strat_df_dict,_ = flatten_dict(strat_df_dict,{})\n",
        "write_strat_dfs(strat_df_dict, dataset['data_name'])\n"
      ],
      "metadata": {
        "id": "FUslC4qZ7_2-",
        "outputId": "f9cd6ccb-cb80-4984-ffc9-71fb321b8eca",
        "colab": {
          "base_uri": "https://localhost:8080/",
          "height": 17
        }
      },
      "execution_count": 39,
      "outputs": [
        {
          "output_type": "display_data",
          "data": {
            "text/plain": [
              "<IPython.core.display.Javascript object>"
            ],
            "application/javascript": [
              "\n",
              "    async function download(id, filename, size) {\n",
              "      if (!google.colab.kernel.accessAllowed) {\n",
              "        return;\n",
              "      }\n",
              "      const div = document.createElement('div');\n",
              "      const label = document.createElement('label');\n",
              "      label.textContent = `Downloading \"${filename}\": `;\n",
              "      div.appendChild(label);\n",
              "      const progress = document.createElement('progress');\n",
              "      progress.max = size;\n",
              "      div.appendChild(progress);\n",
              "      document.body.appendChild(div);\n",
              "\n",
              "      const buffers = [];\n",
              "      let downloaded = 0;\n",
              "\n",
              "      const channel = await google.colab.kernel.comms.open(id);\n",
              "      // Send a message to notify the kernel that we're ready.\n",
              "      channel.send({})\n",
              "\n",
              "      for await (const message of channel.messages) {\n",
              "        // Send a message to notify the kernel that we're ready.\n",
              "        channel.send({})\n",
              "        if (message.buffers) {\n",
              "          for (const buffer of message.buffers) {\n",
              "            buffers.push(buffer);\n",
              "            downloaded += buffer.byteLength;\n",
              "            progress.value = downloaded;\n",
              "          }\n",
              "        }\n",
              "      }\n",
              "      const blob = new Blob(buffers, {type: 'application/binary'});\n",
              "      const a = document.createElement('a');\n",
              "      a.href = window.URL.createObjectURL(blob);\n",
              "      a.download = filename;\n",
              "      div.appendChild(a);\n",
              "      a.click();\n",
              "      div.remove();\n",
              "    }\n",
              "  "
            ]
          },
          "metadata": {}
        },
        {
          "output_type": "display_data",
          "data": {
            "text/plain": [
              "<IPython.core.display.Javascript object>"
            ],
            "application/javascript": [
              "download(\"download_de3febbd-5ef7-4c2a-b8ce-7c75a582be33\", \"RNF182.xlsx\", 34782)"
            ]
          },
          "metadata": {}
        }
      ]
    },
    {
      "cell_type": "code",
      "source": [
        "\n",
        "\n"
      ],
      "metadata": {
        "id": "Zc8D-Ro3pk92"
      },
      "execution_count": 34,
      "outputs": []
    },
    {
      "cell_type": "code",
      "source": [
        "\n",
        "\n",
        "# ad = {'a1': 1, 'a2': 2}\n",
        "# bd = {'b1': 3, 'b2': 4}\n",
        "# a ={ 'a': ad, 'b': bd }\n",
        "\n",
        "# print(a)\n",
        "# fd, fdk = flatten_dict(a)\n",
        "# print(fd)"
      ],
      "metadata": {
        "id": "hMIhyCrZ9LiH"
      },
      "execution_count": 35,
      "outputs": []
    }
  ]
}