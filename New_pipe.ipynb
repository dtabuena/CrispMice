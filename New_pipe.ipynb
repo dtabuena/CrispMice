{
  "nbformat": 4,
  "nbformat_minor": 0,
  "metadata": {
    "colab": {
      "provenance": [],
      "include_colab_link": true
    },
    "kernelspec": {
      "name": "python3",
      "display_name": "Python 3"
    },
    "language_info": {
      "name": "python"
    }
  },
  "cells": [
    {
      "cell_type": "markdown",
      "metadata": {
        "id": "view-in-github",
        "colab_type": "text"
      },
      "source": [
        "<a href=\"https://colab.research.google.com/github/dtabuena/CrispyMice/blob/main/New_pipe.ipynb\" target=\"_parent\"><img src=\"https://colab.research.google.com/assets/colab-badge.svg\" alt=\"Open In Colab\"/></a>"
      ]
    },
    {
      "cell_type": "code",
      "execution_count": 1,
      "metadata": {
        "colab": {
          "base_uri": "https://localhost:8080/",
          "height": 36
        },
        "id": "JC9rPb_d8kWh",
        "outputId": "734aaa97-7378-4041-a661-32672a9eca8f"
      },
      "outputs": [
        {
          "output_type": "execute_result",
          "data": {
            "text/plain": [
              "'Get Repositories'"
            ],
            "application/vnd.google.colaboratory.intrinsic+json": {
              "type": "string"
            }
          },
          "metadata": {},
          "execution_count": 1
        }
      ],
      "source": [
        "'Get Standard Modules'\n",
        "\n",
        "import pandas as pd\n",
        "import numpy as np\n",
        "import matplotlib\n",
        "import matplotlib.pyplot as plt\n",
        "import scipy\n",
        "from scipy import stats\n",
        "import os\n",
        "from scipy.signal import butter,filtfilt\n",
        "from tqdm import tqdm\n",
        "import warnings\n",
        "from IPython.display import clear_output\n",
        "from datetime import datetime\n",
        "import sys\n",
        "import warnings\n",
        "import shutil\n",
        "from google.colab import files\n",
        "warnings.filterwarnings('ignore')\n",
        "np.set_printoptions(threshold=sys.maxsize)\n",
        "clear_output(wait=False)\n",
        "'''Get Repositories'''\n"
      ]
    },
    {
      "cell_type": "code",
      "source": [
        "\n",
        "try: shutil.rmtree('/content/EphysLib')\n",
        "except: None\n",
        "\n",
        "\"run dtabuena's ephys notebooks\"\n",
        "!git clone https://github.com/dtabuena/EphysLib\n",
        "\n",
        "to_import = [\n",
        "          'ABF_Quality_Control.ipynb',\n",
        "          'Basic_Ephys.ipynb',\n",
        "          'Firing_Rate_Gain.ipynb',\n",
        "          'Simple_ABF_tools.ipynb',\n",
        "          'IV_analyzer.ipynb',\n",
        "          'Vm_analyzer.ipynb',\n",
        "          'membrane_analyzer.ipynb',\n",
        "          'analyze_rheobase.ipynb',\n",
        "          'fun_math.ipynb',\n",
        "          'importing_abfs_from_dropbox.ipynb',\n",
        "          'input_resistance_analyzer.ipynb',\n",
        "          'latencey_analyzer.ipynb',\n",
        "          'QC_recoding_dataframe.ipynb'\n",
        "            ]\n",
        "for i in to_import:\n",
        "    f = '/content/EphysLib/' + i\n",
        "    %run $f\n",
        "\n",
        "\n",
        "try: shutil.rmtree('/content/CrispyMice')\n",
        "except: None\n",
        "!git clone https://github.com/dtabuena/CrispyMice\n",
        "to_import = ['CrispyPipelineFuncs.ipynb']\n",
        "for i in to_import:\n",
        "    f = '/content/CrispyMice/' + i\n",
        "    %run $f"
      ],
      "metadata": {
        "colab": {
          "base_uri": "https://localhost:8080/"
        },
        "id": "rZFzWuXt8rY_",
        "outputId": "881c8ec5-0691-408e-a3f8-a71f3222c180"
      },
      "execution_count": 2,
      "outputs": [
        {
          "output_type": "stream",
          "name": "stdout",
          "text": [
            "Cloning into 'EphysLib'...\n",
            "remote: Enumerating objects: 247, done.\u001b[K\n",
            "remote: Counting objects: 100% (153/153), done.\u001b[K\n",
            "remote: Compressing objects: 100% (124/124), done.\u001b[K\n",
            "remote: Total 247 (delta 102), reused 29 (delta 29), pack-reused 94\u001b[K\n",
            "Receiving objects: 100% (247/247), 204.58 KiB | 22.73 MiB/s, done.\n",
            "Resolving deltas: 100% (146/146), done.\n",
            "Looking in indexes: https://pypi.org/simple, https://us-python.pkg.dev/colab-wheels/public/simple/\n",
            "Collecting pyabf\n",
            "  Downloading pyabf-2.3.6-py3-none-any.whl (53 kB)\n",
            "\u001b[K     |████████████████████████████████| 53 kB 1.5 MB/s \n",
            "\u001b[?25hRequirement already satisfied: numpy>=1.13.3 in /usr/local/lib/python3.7/dist-packages (from pyabf) (1.21.6)\n",
            "Requirement already satisfied: pytest>=3.0.7 in /usr/local/lib/python3.7/dist-packages (from pyabf) (3.6.4)\n",
            "Requirement already satisfied: matplotlib>=2.1.0 in /usr/local/lib/python3.7/dist-packages (from pyabf) (3.2.2)\n",
            "Requirement already satisfied: cycler>=0.10 in /usr/local/lib/python3.7/dist-packages (from matplotlib>=2.1.0->pyabf) (0.11.0)\n",
            "Requirement already satisfied: pyparsing!=2.0.4,!=2.1.2,!=2.1.6,>=2.0.1 in /usr/local/lib/python3.7/dist-packages (from matplotlib>=2.1.0->pyabf) (3.0.9)\n",
            "Requirement already satisfied: python-dateutil>=2.1 in /usr/local/lib/python3.7/dist-packages (from matplotlib>=2.1.0->pyabf) (2.8.2)\n",
            "Requirement already satisfied: kiwisolver>=1.0.1 in /usr/local/lib/python3.7/dist-packages (from matplotlib>=2.1.0->pyabf) (1.4.4)\n",
            "Requirement already satisfied: typing-extensions in /usr/local/lib/python3.7/dist-packages (from kiwisolver>=1.0.1->matplotlib>=2.1.0->pyabf) (4.1.1)\n",
            "Requirement already satisfied: six>=1.10.0 in /usr/local/lib/python3.7/dist-packages (from pytest>=3.0.7->pyabf) (1.15.0)\n",
            "Requirement already satisfied: atomicwrites>=1.0 in /usr/local/lib/python3.7/dist-packages (from pytest>=3.0.7->pyabf) (1.4.1)\n",
            "Requirement already satisfied: setuptools in /usr/local/lib/python3.7/dist-packages (from pytest>=3.0.7->pyabf) (57.4.0)\n",
            "Requirement already satisfied: pluggy<0.8,>=0.5 in /usr/local/lib/python3.7/dist-packages (from pytest>=3.0.7->pyabf) (0.7.1)\n",
            "Requirement already satisfied: attrs>=17.4.0 in /usr/local/lib/python3.7/dist-packages (from pytest>=3.0.7->pyabf) (22.1.0)\n",
            "Requirement already satisfied: py>=1.5.0 in /usr/local/lib/python3.7/dist-packages (from pytest>=3.0.7->pyabf) (1.11.0)\n",
            "Requirement already satisfied: more-itertools>=4.0.0 in /usr/local/lib/python3.7/dist-packages (from pytest>=3.0.7->pyabf) (8.14.0)\n",
            "Installing collected packages: pyabf\n",
            "Successfully installed pyabf-2.3.6\n",
            "Cloning into 'CrispyMice'...\n",
            "remote: Enumerating objects: 147, done.\u001b[K\n",
            "remote: Counting objects: 100% (40/40), done.\u001b[K\n",
            "remote: Compressing objects: 100% (15/15), done.\u001b[K\n",
            "remote: Total 147 (delta 35), reused 25 (delta 25), pack-reused 107\u001b[K\n",
            "Receiving objects: 100% (147/147), 3.48 MiB | 27.87 MiB/s, done.\n",
            "Resolving deltas: 100% (64/64), done.\n"
          ]
        }
      ]
    },
    {
      "cell_type": "code",
      "source": [
        "dataset = {'data_name': 'RNF182',\n",
        "           'data_source': \"https://www.dropbox.com/sh/n9t8p257wnzlijk/AAC9Z36JodisyZjnM3mkJC3Xa?dl=0\",\n",
        "           'file_naming_scheme': ['Rec_date','Virus','GenoType','Sex','Age','Slice_Num','Cell_num','Cell_Type'],\n",
        "           }\n",
        "\n",
        "VC_prot = ['VC - MemTest-10ms-160ms',\n",
        "           'VC - Multi IV - 150ms',]\n",
        "IC_prot = ['IC - Gain - D20pA',\n",
        "           'IC - Gain - D50pA',\n",
        "           'IC - Rheobase',\n",
        "           'IC - R input',\n",
        "           'IC - Latentcy 800pA-1s'\n",
        "           'VC - 3min GapFree']"
      ],
      "metadata": {
        "id": "-KymLloO52Jz"
      },
      "execution_count": 3,
      "outputs": []
    },
    {
      "cell_type": "code",
      "source": [
        "'''Unpack'''\n",
        "data_name = dataset['data_name']\n",
        "data_source = dataset['data_source']\n",
        "file_naming_scheme = dataset['file_naming_scheme']\n",
        "\n",
        "\n",
        "'''Set Internal Analysis Params'''\n",
        "spike_args =  {'spike_thresh':20, 'high_dv_thresh': 25,'low_dv_thresh': -5,'window_ms': 2}\n",
        "\n",
        "func_dict = {}\n",
        "arg_dict = {}\n",
        "\n",
        "func_dict['VC - 3min GapFree']= rmp_analyzer\n",
        "arg_dict['VC - 3min GapFree'] = [False]\n",
        "\n",
        "func_dict['IC - Rheobase']= rheobase_analyzer\n",
        "arg_dict['IC - Rheobase'] = [spike_args, False, False, False]  # [spike_args, to_plot, verbose, force_singlespike]\n",
        "\n",
        "func_dict['IC - Gain - D20pA']= gain_analyzer\n",
        "arg_dict['IC - Gain - D20pA']= [spike_args, 0.8, 0]  # [spike_args, to_plot, verbose, force_singlespike]\n",
        "func_dict['IC - Gain - D50pA']= func_dict['IC - Gain - D20pA'] \n",
        "arg_dict['IC - Gain - D50pA']= arg_dict['IC - Gain - D20pA']\n",
        "\n",
        "func_dict['VC - MemTest-10ms-160ms']= membrane_analyzer\n",
        "arg_dict['VC - MemTest-10ms-160ms']= [False, False, ['Ra', 'Rm', 'Cm', 'tau',\t'Cmq',\t'Cmf',\t'Cmqf', 'Cm_pc']]  # [to_plot, verbose]\n",
        "\n",
        "func_dict['IC - Latentcy 800pA-1s']= latencey_analyzer \n",
        "arg_dict['IC - Latentcy 800pA-1s']= [spike_args, False]  # [spike_args, to_plot]\n",
        "\n",
        "func_dict['IC - Latentcy 800pA-1s']= latencey_analyzer \n",
        "arg_dict['IC - Latentcy 800pA-1s']= [spike_args, False]  # [spike_args, to_plot]\n",
        "\n",
        "func_dict['IC - R input']= input_resistance_analyzer \n",
        "arg_dict['IC - R input']= [[-30, 10] ,False]  # [dVm_limits, to_plot]\n",
        "\n",
        "func_dict['VC - Multi IV - 150ms'] = IV_analyzer\n",
        "arg_dict['VC - Multi IV - 150ms']= [{'IV_Early':(16.5, 30),'IV_Steady_State':(100,120)} ,False]  # [measure_windows, to_plot]\n",
        "\n",
        "\n",
        "''' Gather and Catalog Source Data'''\n",
        "file_loc = get_drobox_folder(data_source, 'my_ephys_data')\n",
        "clear_output(wait=False)   \n",
        "abf_recordings_df, protocol_set = catalogue_recs(file_loc,file_naming_scheme)\n",
        "abf_recordings_df, _ = purge_wrong_clamp(abf_recordings_df,VC_prot,IC_prot)\n",
        "cell_prot_lut(abf_recordings_df,protocol_set,csv_name=data_name+'_LUT')\n",
        "\n",
        "\n",
        "'''Analyze Dataset'''\n",
        "abf_recordings_df, problem_recs = analysis_iterator(abf_recordings_df,func_dict,arg_dict)\n",
        "print(problem_recs) \n",
        "\n",
        "cell_df = cell_sorting(abf_recordings_df)\n",
        "\n",
        "'''Consolidate to Cells'''\n",
        "list_types = ['Recording_name','protocol','abf_timestamp', 'channelList']\n",
        "any_types = ['Rec_date',\t'Virus',\t'GenoType',\t'Sex',\t'Age',\t'Slice_Num',  'Cell_num', 'Cell_Type']\n",
        "cell_df_con = cell_consolidation(cell_df,list_types,any_types)\n",
        "cols_to_simplify = ['IV_Early', 'IV_Steady_State']\n",
        "cell_df_nd = simplify_dicts(cell_df_con,cols_to_simplify)     \n",
        "\n",
        "'''Make Excell Friendly'''\n",
        "keys_and_data_cols={'Stim_Levels_(pA)': ['Stim_Levels_(pA)', 'Spike_Counts' ],\n",
        "                'IV_Early_(V_stim)': ['IV_Early_(V_stim)', 'IV_Early_(I_peak)', 'IV_Steady_State_(I_mean)']}\n",
        "cell_df_csv = csv_frinedly(cell_df_nd,keys_and_data_cols)\n",
        "\n",
        "''' Convert to Current Density'''\n",
        "size_col = 'Cmq_160.0'\n",
        "current_col_list = ['IV_Early_(I_peak)_', 'IV_Steady_State_(I_mean)_']\n",
        "cell_df_csv = current_density_correction(cell_df_csv, size_col, current_col_list)\n",
        "\n",
        "\n",
        "'''Abridge DataFrame'''\n",
        "abrg_exclusions = ['Recording_name', \n",
        "                'protocol', 'abf_timestamp', 'channelList',  'Ra_10.0', 'Rm_10.0', 'tau_10.0', 'Cmq_10.0', 'Cmf_10.0',\n",
        "                'Cmqf_10.0',  'Cmf_160.0', 'Cmqf_160.0', 'Cm_pc_160.0',\n",
        "                'Gain_R2', 'Stim_Levels_(pA)', 'Spike_Counts', 'Firing_Duration_%', 'Gain_Vh',  'Vhold_spike',\n",
        "                    'Rin_Rsqr',  'Ramp_AP_thresh', 'Ramp_Vh', 'Ramp_Rheobase', \n",
        "                'ap_thresh_us', 'v_half',\n",
        "                'IV_Early_(range)', 'IV_Early_(I_peak)', 'IV_Early_(I_mean)', 'IV_Early_(V_stim)', 'IV_Steady_State_(range)',\n",
        "                'IV_Steady_State_(I_peak)', 'IV_Steady_State_(I_mean)', 'IV_Steady_State_(V_stim)', ]\n",
        "\n",
        "abrg_keep = [c for c in cell_df_csv.columns if c not in abrg_exclusions]\n",
        "cell_df_csv_abrg = cell_df_csv[abrg_keep]\n",
        "\n",
        "'''Stratify Cells By Type'''\n",
        "strat_col = 'Cell_Type'\n",
        "xl_file_name= data_name+'.xlsx'\n",
        "new_dfs = stratify_cells(cell_df_csv_abrg,strat_col,xl_file_name)"
      ],
      "metadata": {
        "id": "WL9v82TH5PPB",
        "outputId": "122430ea-c92f-40e1-8726-f39b9a43d845",
        "colab": {
          "base_uri": "https://localhost:8080/",
          "height": 124
        }
      },
      "execution_count": 4,
      "outputs": [
        {
          "output_type": "display_data",
          "data": {
            "text/plain": [
              "<IPython.core.display.Javascript object>"
            ],
            "application/javascript": [
              "\n",
              "    async function download(id, filename, size) {\n",
              "      if (!google.colab.kernel.accessAllowed) {\n",
              "        return;\n",
              "      }\n",
              "      const div = document.createElement('div');\n",
              "      const label = document.createElement('label');\n",
              "      label.textContent = `Downloading \"${filename}\": `;\n",
              "      div.appendChild(label);\n",
              "      const progress = document.createElement('progress');\n",
              "      progress.max = size;\n",
              "      div.appendChild(progress);\n",
              "      document.body.appendChild(div);\n",
              "\n",
              "      const buffers = [];\n",
              "      let downloaded = 0;\n",
              "\n",
              "      const channel = await google.colab.kernel.comms.open(id);\n",
              "      // Send a message to notify the kernel that we're ready.\n",
              "      channel.send({})\n",
              "\n",
              "      for await (const message of channel.messages) {\n",
              "        // Send a message to notify the kernel that we're ready.\n",
              "        channel.send({})\n",
              "        if (message.buffers) {\n",
              "          for (const buffer of message.buffers) {\n",
              "            buffers.push(buffer);\n",
              "            downloaded += buffer.byteLength;\n",
              "            progress.value = downloaded;\n",
              "          }\n",
              "        }\n",
              "      }\n",
              "      const blob = new Blob(buffers, {type: 'application/binary'});\n",
              "      const a = document.createElement('a');\n",
              "      a.href = window.URL.createObjectURL(blob);\n",
              "      a.download = filename;\n",
              "      div.appendChild(a);\n",
              "      a.click();\n",
              "      div.remove();\n",
              "    }\n",
              "  "
            ]
          },
          "metadata": {}
        },
        {
          "output_type": "display_data",
          "data": {
            "text/plain": [
              "<IPython.core.display.Javascript object>"
            ],
            "application/javascript": [
              "download(\"download_c7fb336b-9a3c-4718-ba8d-0452b463e961\", \"RNF182_LUT.csv\", 13422)"
            ]
          },
          "metadata": {}
        },
        {
          "output_type": "stream",
          "name": "stderr",
          "text": [
            "  4%|▍         | 10/251 [00:09<04:31,  1.13s/it]"
          ]
        },
        {
          "output_type": "stream",
          "name": "stdout",
          "text": [
            "ap_stats_failed:  ABF (v2.9) with 2 channels (mV, pA), sampled at 10.0 kHz, containing 3 sweeps, having no tags, with a total length of 0.57 minutes, recorded with protocol \"IC - Rheobase\".\n"
          ]
        },
        {
          "output_type": "stream",
          "name": "stderr",
          "text": [
            " 24%|██▍       | 60/251 [00:42<01:44,  1.83it/s]"
          ]
        },
        {
          "output_type": "stream",
          "name": "stdout",
          "text": [
            "error on:  my_ephys_dat/2022_08_12_RNF182/2022x08x12_RNF182_E4KI_F_P251_s002_c006_CA3xPOS_0006.abf\n"
          ]
        },
        {
          "output_type": "stream",
          "name": "stderr",
          "text": [
            " 65%|██████▌   | 164/251 [02:03<01:43,  1.19s/it]"
          ]
        },
        {
          "output_type": "stream",
          "name": "stdout",
          "text": [
            "ap_stats_failed:  ABF (v2.9) with 2 channels (mV, pA), sampled at 10.0 kHz, containing 7 sweeps, having no tags, with a total length of 1.23 minutes, recorded with protocol \"IC - Rheobase\".\n"
          ]
        },
        {
          "output_type": "stream",
          "name": "stderr",
          "text": [
            "100%|██████████| 251/251 [03:10<00:00,  1.31it/s]\n"
          ]
        },
        {
          "output_type": "stream",
          "name": "stdout",
          "text": [
            "['my_ephys_dat/2022_08_12_RNF182/2022x08x12_RNF182_E4KI_F_P251_s002_c006_CA3xPOS_0006.abf']\n"
          ]
        },
        {
          "output_type": "display_data",
          "data": {
            "text/plain": [
              "<IPython.core.display.Javascript object>"
            ],
            "application/javascript": [
              "\n",
              "    async function download(id, filename, size) {\n",
              "      if (!google.colab.kernel.accessAllowed) {\n",
              "        return;\n",
              "      }\n",
              "      const div = document.createElement('div');\n",
              "      const label = document.createElement('label');\n",
              "      label.textContent = `Downloading \"${filename}\": `;\n",
              "      div.appendChild(label);\n",
              "      const progress = document.createElement('progress');\n",
              "      progress.max = size;\n",
              "      div.appendChild(progress);\n",
              "      document.body.appendChild(div);\n",
              "\n",
              "      const buffers = [];\n",
              "      let downloaded = 0;\n",
              "\n",
              "      const channel = await google.colab.kernel.comms.open(id);\n",
              "      // Send a message to notify the kernel that we're ready.\n",
              "      channel.send({})\n",
              "\n",
              "      for await (const message of channel.messages) {\n",
              "        // Send a message to notify the kernel that we're ready.\n",
              "        channel.send({})\n",
              "        if (message.buffers) {\n",
              "          for (const buffer of message.buffers) {\n",
              "            buffers.push(buffer);\n",
              "            downloaded += buffer.byteLength;\n",
              "            progress.value = downloaded;\n",
              "          }\n",
              "        }\n",
              "      }\n",
              "      const blob = new Blob(buffers, {type: 'application/binary'});\n",
              "      const a = document.createElement('a');\n",
              "      a.href = window.URL.createObjectURL(blob);\n",
              "      a.download = filename;\n",
              "      div.appendChild(a);\n",
              "      a.click();\n",
              "      div.remove();\n",
              "    }\n",
              "  "
            ]
          },
          "metadata": {}
        },
        {
          "output_type": "display_data",
          "data": {
            "text/plain": [
              "<IPython.core.display.Javascript object>"
            ],
            "application/javascript": [
              "download(\"download_6e12f9fc-8b01-4963-a751-e1349e9438b7\", \"RNF182.xlsx\", 62864)"
            ]
          },
          "metadata": {}
        }
      ]
    },
    {
      "cell_type": "code",
      "source": [
        "cell_df_csv_abrg.columns[:6]"
      ],
      "metadata": {
        "id": "vq8yBKIs83Mc",
        "outputId": "e1b19127-0d03-4ae2-fb6e-acdf179a4458",
        "colab": {
          "base_uri": "https://localhost:8080/"
        }
      },
      "execution_count": 5,
      "outputs": [
        {
          "output_type": "execute_result",
          "data": {
            "text/plain": [
              "Index(['Rec_date', 'Virus', 'GenoType', 'Sex', 'Age', 'Slice_Num'], dtype='object')"
            ]
          },
          "metadata": {},
          "execution_count": 5
        }
      ]
    },
    {
      "cell_type": "code",
      "source": [
        "strat_col = ['Cell_Type', 'Rec_date']\n",
        "\n",
        "strat_df_dict = stratify_rec(cell_df_csv_abrg,strat_col)\n",
        "\n",
        "\n"
      ],
      "metadata": {
        "id": "FUslC4qZ7_2-"
      },
      "execution_count": 6,
      "outputs": []
    },
    {
      "cell_type": "code",
      "source": [
        "def flatten_dict(my_dict,flat_dict = {} ):\n",
        "    for k in my_dict.keys():\n",
        "        if isinstance(my_dict[k], dict):\n",
        "            sub_dict, sub_keys = flatten_dict(my_dict[k],flat_dict)\n",
        "            for sk in sub_keys:\n",
        "                flat_dict[k+'_'+sk] = sub_dict[sk]\n",
        "        else:\n",
        "            flat_dict = my_dict\n",
        "    return flat_dict, list(flat_dict.keys()) \n",
        "\n",
        "ad = {'a1': 1, 'a2': 2}\n",
        "bd = {'b1': 3, 'b2': 4}\n",
        "a ={ 'a': ad, 'b': bd }\n",
        "\n",
        "print(a)\n",
        "fd, fdk = flatten_dict(a)\n",
        "print(fd)"
      ],
      "metadata": {
        "id": "hMIhyCrZ9LiH",
        "outputId": "84b220b5-6170-4673-cbcd-a19263fb9b2f",
        "colab": {
          "base_uri": "https://localhost:8080/"
        }
      },
      "execution_count": 20,
      "outputs": [
        {
          "output_type": "stream",
          "name": "stdout",
          "text": [
            "{'a': {'a1': 1, 'a2': 2}, 'b': {'b1': 3, 'b2': 4}}\n",
            "{'a_a1': 1, 'a_a2': 2, 'b_b1': 3, 'b_b2': 4}\n"
          ]
        }
      ]
    },
    {
      "cell_type": "code",
      "source": [
        "\n"
      ],
      "metadata": {
        "id": "fd5Er4jh9cpk",
        "outputId": "68307239-50d1-4e36-cc02-c5236d21a5b5",
        "colab": {
          "base_uri": "https://localhost:8080/"
        }
      },
      "execution_count": 12,
      "outputs": [
        {
          "output_type": "stream",
          "name": "stdout",
          "text": [
            "{'a': {'a1': 1, 'a2': 2}, 'b': {'b1': 3, 'b2': 4}}\n",
            "flat {}\n",
            "True\n",
            "flat {}\n",
            "False\n",
            "False\n",
            "sub_dict {}\n",
            "True\n",
            "flat {}\n",
            "False\n",
            "False\n",
            "sub_dict {}\n",
            "{}\n"
          ]
        }
      ]
    }
  ]
}